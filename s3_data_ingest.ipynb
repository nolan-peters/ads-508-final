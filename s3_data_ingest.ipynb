{
 "cells": [
  {
   "cell_type": "markdown",
   "id": "740b3caa-0291-4f03-ad56-d68c4aa6af99",
   "metadata": {},
   "source": [
    "# Data Ingest"
   ]
  },
  {
   "cell_type": "markdown",
   "id": "958423a8-a93e-48b6-845e-ccb0b155d166",
   "metadata": {},
   "source": [
    "Access data stored on s3 and explore with Athena"
   ]
  },
  {
   "cell_type": "code",
   "execution_count": 51,
   "id": "72114994-6159-4fe9-a53e-b5dd98e6236d",
   "metadata": {},
   "outputs": [],
   "source": [
    "import warnings\n",
    "warnings.simplefilter(action=\"ignore\", category=UserWarning)\n",
    "\n",
    "import boto3\n",
    "import sagemaker\n",
    "from pyathena import connect\n",
    "import pandas as pd"
   ]
  },
  {
   "cell_type": "markdown",
   "id": "1d3bc885-b3f2-4976-bb44-38e5ba229981",
   "metadata": {},
   "source": [
    "Set up sagemaker instance"
   ]
  },
  {
   "cell_type": "code",
   "execution_count": 53,
   "id": "d54583bc-b45d-4652-8ed8-b61caa523aec",
   "metadata": {},
   "outputs": [],
   "source": [
    "sess = sagemaker.Session()\n",
    "bucket = 'ads-508-final'\n",
    "role = sagemaker.get_execution_role()\n",
    "region = boto3.Session().region_name\n",
    "account_id = boto3.client(\"sts\").get_caller_identity().get(\"Account\")\n",
    "\n",
    "sm = boto3.Session().client(service_name=\"sagemaker\", region_name=region)"
   ]
  },
  {
   "cell_type": "markdown",
   "id": "38448d68-e515-4dff-8b43-83853fb39b2d",
   "metadata": {},
   "source": [
    "Verify objects in public bucket"
   ]
  },
  {
   "cell_type": "code",
   "execution_count": 48,
   "id": "b5ff49ab-0ab0-4292-a9e4-93643049515f",
   "metadata": {},
   "outputs": [
    {
     "name": "stdout",
     "output_type": "stream",
     "text": [
      "                           PRE games/\n",
      "2025-03-14 05:41:16   70127573 achievements.csv\n",
      "2025-03-14 05:41:16  799125767 history.csv\n",
      "2025-03-14 05:41:31   10705226 players.csv\n",
      "2025-03-14 05:41:18    2320804 prices.csv\n",
      "2025-03-14 05:41:16   74376997 purchased_games.csv\n"
     ]
    }
   ],
   "source": [
    "!aws s3 ls s3://ads-508-final/playstation/"
   ]
  },
  {
   "cell_type": "code",
   "execution_count": 29,
   "id": "4b995129-0a71-420d-97d2-ff1de2ae1196",
   "metadata": {},
   "outputs": [],
   "source": [
    "# set path for public bucket\n",
    "s3_playstation_path_public = 's3://ads-508-final/playstation/'"
   ]
  },
  {
   "cell_type": "code",
   "execution_count": null,
   "id": "4438f8a5-09d5-4712-a8f8-074821d294a1",
   "metadata": {},
   "outputs": [],
   "source": [
    "# set path for private bucket\n"
   ]
  },
  {
   "cell_type": "code",
   "execution_count": 8,
   "id": "48be9fc8-b8d4-4f8e-aef2-2f28b13f25b1",
   "metadata": {},
   "outputs": [],
   "source": [
    "# set staging directory\n",
    "s3_staging_dir = \"s3://{0}/athena/staging\".format(bucket)"
   ]
  },
  {
   "cell_type": "code",
   "execution_count": 9,
   "id": "803569fc-73a6-48fe-8450-595628e29208",
   "metadata": {},
   "outputs": [],
   "source": [
    "# create connection with pyathena\n",
    "# EXPLORE USING ENGINE\n",
    "conn = connect(region_name = region, s3_staging_dir = s3_staging_dir)"
   ]
  },
  {
   "cell_type": "code",
   "execution_count": 7,
   "id": "136d890e-e83a-41e0-b200-a4f029f7d2da",
   "metadata": {},
   "outputs": [],
   "source": [
    "# define database name\n",
    "database_name = \"playstationaws\""
   ]
  },
  {
   "cell_type": "code",
   "execution_count": 10,
   "id": "704a9af3-2ea8-44a2-9ab8-1f357acc2a9c",
   "metadata": {},
   "outputs": [
    {
     "name": "stdout",
     "output_type": "stream",
     "text": [
      "CREATE DATABASE IF NOT EXISTS playstationaws\n"
     ]
    }
   ],
   "source": [
    "# create database\n",
    "statement = \"CREATE DATABASE IF NOT EXISTS {}\".format(database_name)\n",
    "print(statement) "
   ]
  },
  {
   "cell_type": "code",
   "execution_count": 12,
   "id": "a521ad87-08a1-4c6c-8bc4-e641ea2cce6a",
   "metadata": {},
   "outputs": [
    {
     "name": "stderr",
     "output_type": "stream",
     "text": [
      "/tmp/ipykernel_1242/3803073958.py:3: UserWarning: pandas only supports SQLAlchemy connectable (engine/connection) or database string URI or sqlite3 DBAPI2 connection. Other DBAPI2 objects are not tested. Please consider using SQLAlchemy.\n",
      "  pd.read_sql(statement, conn)\n"
     ]
    },
    {
     "data": {
      "text/html": [
       "<div>\n",
       "<style scoped>\n",
       "    .dataframe tbody tr th:only-of-type {\n",
       "        vertical-align: middle;\n",
       "    }\n",
       "\n",
       "    .dataframe tbody tr th {\n",
       "        vertical-align: top;\n",
       "    }\n",
       "\n",
       "    .dataframe thead th {\n",
       "        text-align: right;\n",
       "    }\n",
       "</style>\n",
       "<table border=\"1\" class=\"dataframe\">\n",
       "  <thead>\n",
       "    <tr style=\"text-align: right;\">\n",
       "      <th></th>\n",
       "    </tr>\n",
       "  </thead>\n",
       "  <tbody>\n",
       "  </tbody>\n",
       "</table>\n",
       "</div>"
      ],
      "text/plain": [
       "Empty DataFrame\n",
       "Columns: []\n",
       "Index: []"
      ]
     },
     "execution_count": 12,
     "metadata": {},
     "output_type": "execute_result"
    }
   ],
   "source": [
    "# execute query to create database\n",
    "pd.read_sql(statement, conn)"
   ]
  },
  {
   "cell_type": "code",
   "execution_count": 13,
   "id": "41399b10-255b-4b4a-98aa-fe2580bcd9a1",
   "metadata": {},
   "outputs": [
    {
     "name": "stderr",
     "output_type": "stream",
     "text": [
      "/tmp/ipykernel_1242/2646085860.py:3: UserWarning: pandas only supports SQLAlchemy connectable (engine/connection) or database string URI or sqlite3 DBAPI2 connection. Other DBAPI2 objects are not tested. Please consider using SQLAlchemy.\n",
      "  df_show = pd.read_sql(statement, conn)\n"
     ]
    },
    {
     "data": {
      "text/html": [
       "<div>\n",
       "<style scoped>\n",
       "    .dataframe tbody tr th:only-of-type {\n",
       "        vertical-align: middle;\n",
       "    }\n",
       "\n",
       "    .dataframe tbody tr th {\n",
       "        vertical-align: top;\n",
       "    }\n",
       "\n",
       "    .dataframe thead th {\n",
       "        text-align: right;\n",
       "    }\n",
       "</style>\n",
       "<table border=\"1\" class=\"dataframe\">\n",
       "  <thead>\n",
       "    <tr style=\"text-align: right;\">\n",
       "      <th></th>\n",
       "      <th>database_name</th>\n",
       "    </tr>\n",
       "  </thead>\n",
       "  <tbody>\n",
       "    <tr>\n",
       "      <th>0</th>\n",
       "      <td>default</td>\n",
       "    </tr>\n",
       "    <tr>\n",
       "      <th>1</th>\n",
       "      <td>playstationaws</td>\n",
       "    </tr>\n",
       "  </tbody>\n",
       "</table>\n",
       "</div>"
      ],
      "text/plain": [
       "    database_name\n",
       "0         default\n",
       "1  playstationaws"
      ]
     },
     "execution_count": 13,
     "metadata": {},
     "output_type": "execute_result"
    }
   ],
   "source": [
    "# execute query to show database is present\n",
    "statement = \"SHOW DATABASES\"\n",
    "\n",
    "df_show = pd.read_sql(statement, conn)\n",
    "df_show.head()"
   ]
  },
  {
   "cell_type": "code",
   "execution_count": 14,
   "id": "e2a88e02-2c62-4113-a75d-ce2b4db4c85e",
   "metadata": {},
   "outputs": [],
   "source": [
    "# define table names based on datasets\n",
    "table_names = ['achievements', 'games', 'history', 'players', 'prices', 'purchased_games']"
   ]
  },
  {
   "cell_type": "code",
   "execution_count": 44,
   "id": "55c79602-a8e8-4f11-a68b-887a0bfdf456",
   "metadata": {},
   "outputs": [
    {
     "name": "stdout",
     "output_type": "stream",
     "text": [
      "create external table if not exists playstationaws.games (\n",
      "            game_id string,\n",
      "            title string,\n",
      "            platform string,\n",
      "            developers string,\n",
      "            publishers string,\n",
      "            genres string,\n",
      "            supported_languages string,\n",
      "            release_date date\n",
      "        )\n",
      "        row format delimited\n",
      "        fields terminated by ','\n",
      "        lines terminated by '\\n'\n",
      "        location 's3://ads-508-final/playstation/games'\n",
      "        tblproperties ('compressionType'='gzip', 'skip.header.line.count'='1');\n"
     ]
    }
   ],
   "source": [
    "# create table for games data\n",
    "statement = \"\"\"create external table if not exists {}.{} (\n",
    "            game_id string,\n",
    "            title string,\n",
    "            platform string,\n",
    "            developers string,\n",
    "            publishers string,\n",
    "            genres string,\n",
    "            supported_languages string,\n",
    "            release_date date\n",
    "        )\n",
    "        row format delimited\n",
    "        fields terminated by ','\n",
    "        lines terminated by '\\\\n'\n",
    "        location '{}games/'\n",
    "        tblproperties ('compressionType'='gzip', 'skip.header.line.count'='1');\"\"\".format(\n",
    "            database_name, table_names[1], s3_playstation_path\n",
    "        )\n",
    "print(statement)"
   ]
  },
  {
   "cell_type": "code",
   "execution_count": 45,
   "id": "63f6f916-c2db-48e7-9106-c1b6397f03d3",
   "metadata": {},
   "outputs": [
    {
     "name": "stderr",
     "output_type": "stream",
     "text": [
      "/tmp/ipykernel_1242/618921652.py:1: UserWarning: pandas only supports SQLAlchemy connectable (engine/connection) or database string URI or sqlite3 DBAPI2 connection. Other DBAPI2 objects are not tested. Please consider using SQLAlchemy.\n",
      "  pd.read_sql(statement, conn)\n"
     ]
    },
    {
     "data": {
      "text/html": [
       "<div>\n",
       "<style scoped>\n",
       "    .dataframe tbody tr th:only-of-type {\n",
       "        vertical-align: middle;\n",
       "    }\n",
       "\n",
       "    .dataframe tbody tr th {\n",
       "        vertical-align: top;\n",
       "    }\n",
       "\n",
       "    .dataframe thead th {\n",
       "        text-align: right;\n",
       "    }\n",
       "</style>\n",
       "<table border=\"1\" class=\"dataframe\">\n",
       "  <thead>\n",
       "    <tr style=\"text-align: right;\">\n",
       "      <th></th>\n",
       "    </tr>\n",
       "  </thead>\n",
       "  <tbody>\n",
       "  </tbody>\n",
       "</table>\n",
       "</div>"
      ],
      "text/plain": [
       "Empty DataFrame\n",
       "Columns: []\n",
       "Index: []"
      ]
     },
     "execution_count": 45,
     "metadata": {},
     "output_type": "execute_result"
    }
   ],
   "source": [
    "# execute query to create table and load data\n",
    "pd.read_sql(statement, conn)"
   ]
  },
  {
   "cell_type": "code",
   "execution_count": 46,
   "id": "1f3f7c80-1619-4b65-b64f-2e72ece08be6",
   "metadata": {},
   "outputs": [],
   "source": [
    "# define query and check load\n",
    "statement = \"\"\"select * from {}.games limit 10\"\"\".format(database_name)"
   ]
  },
  {
   "cell_type": "code",
   "execution_count": 47,
   "id": "747226fd-4338-4f35-8e57-4ccca056224d",
   "metadata": {},
   "outputs": [
    {
     "name": "stderr",
     "output_type": "stream",
     "text": [
      "/tmp/ipykernel_1242/1351440842.py:1: UserWarning: pandas only supports SQLAlchemy connectable (engine/connection) or database string URI or sqlite3 DBAPI2 connection. Other DBAPI2 objects are not tested. Please consider using SQLAlchemy.\n",
      "  df = pd.read_sql(statement, conn)\n"
     ]
    },
    {
     "data": {
      "text/html": [
       "<div>\n",
       "<style scoped>\n",
       "    .dataframe tbody tr th:only-of-type {\n",
       "        vertical-align: middle;\n",
       "    }\n",
       "\n",
       "    .dataframe tbody tr th {\n",
       "        vertical-align: top;\n",
       "    }\n",
       "\n",
       "    .dataframe thead th {\n",
       "        text-align: right;\n",
       "    }\n",
       "</style>\n",
       "<table border=\"1\" class=\"dataframe\">\n",
       "  <thead>\n",
       "    <tr style=\"text-align: right;\">\n",
       "      <th></th>\n",
       "      <th>game_id</th>\n",
       "      <th>title</th>\n",
       "      <th>platform</th>\n",
       "      <th>developers</th>\n",
       "      <th>publishers</th>\n",
       "      <th>genres</th>\n",
       "      <th>supported_languages</th>\n",
       "      <th>release_date</th>\n",
       "    </tr>\n",
       "  </thead>\n",
       "  <tbody>\n",
       "    <tr>\n",
       "      <th>0</th>\n",
       "      <td>749375</td>\n",
       "      <td>Medieval Match Master</td>\n",
       "      <td>PS4</td>\n",
       "      <td>['Erik Games']</td>\n",
       "      <td>['Erik Games']</td>\n",
       "      <td>['Puzzle']</td>\n",
       "      <td></td>\n",
       "      <td>2024-11-22</td>\n",
       "    </tr>\n",
       "    <tr>\n",
       "      <th>1</th>\n",
       "      <td>749839</td>\n",
       "      <td>Sunforge Solar Survival</td>\n",
       "      <td>PS4</td>\n",
       "      <td>['GrizzlyGames']</td>\n",
       "      <td>['GrizzlyGames']</td>\n",
       "      <td></td>\n",
       "      <td></td>\n",
       "      <td>2024-11-21</td>\n",
       "    </tr>\n",
       "    <tr>\n",
       "      <th>2</th>\n",
       "      <td>749347</td>\n",
       "      <td>Find Love Or Die Trying</td>\n",
       "      <td>PS5</td>\n",
       "      <td>['Sunseeker Games']</td>\n",
       "      <td>['Ratalaika Games']</td>\n",
       "      <td>['Visual Novel']</td>\n",
       "      <td></td>\n",
       "      <td>2024-11-22</td>\n",
       "    </tr>\n",
       "    <tr>\n",
       "      <th>3</th>\n",
       "      <td>749341</td>\n",
       "      <td>Medieval Match Master</td>\n",
       "      <td>PS4</td>\n",
       "      <td>['Erik Games']</td>\n",
       "      <td>['Erik Games']</td>\n",
       "      <td>['Puzzle']</td>\n",
       "      <td></td>\n",
       "      <td>2024-11-22</td>\n",
       "    </tr>\n",
       "    <tr>\n",
       "      <th>4</th>\n",
       "      <td>749097</td>\n",
       "      <td>Bust A Block 2</td>\n",
       "      <td>PS5</td>\n",
       "      <td>['ThiGames']</td>\n",
       "      <td>['ThiGames']</td>\n",
       "      <td>['Puzzle']</td>\n",
       "      <td></td>\n",
       "      <td>2024-11-21</td>\n",
       "    </tr>\n",
       "  </tbody>\n",
       "</table>\n",
       "</div>"
      ],
      "text/plain": [
       "  game_id                    title platform           developers  \\\n",
       "0  749375    Medieval Match Master      PS4       ['Erik Games']   \n",
       "1  749839  Sunforge Solar Survival      PS4     ['GrizzlyGames']   \n",
       "2  749347  Find Love Or Die Trying      PS5  ['Sunseeker Games']   \n",
       "3  749341    Medieval Match Master      PS4       ['Erik Games']   \n",
       "4  749097           Bust A Block 2      PS5         ['ThiGames']   \n",
       "\n",
       "            publishers            genres supported_languages release_date  \n",
       "0       ['Erik Games']        ['Puzzle']                       2024-11-22  \n",
       "1     ['GrizzlyGames']                                         2024-11-21  \n",
       "2  ['Ratalaika Games']  ['Visual Novel']                       2024-11-22  \n",
       "3       ['Erik Games']        ['Puzzle']                       2024-11-22  \n",
       "4         ['ThiGames']        ['Puzzle']                       2024-11-21  "
      ]
     },
     "execution_count": 47,
     "metadata": {},
     "output_type": "execute_result"
    }
   ],
   "source": [
    "df = pd.read_sql(statement, conn)\n",
    "df.head()"
   ]
  },
  {
   "cell_type": "code",
   "execution_count": null,
   "id": "03feef1c-7565-4b64-bfa9-267f14a925fb",
   "metadata": {},
   "outputs": [],
   "source": []
  }
 ],
 "metadata": {
  "kernelspec": {
   "display_name": "Python 3 (ipykernel)",
   "language": "python",
   "name": "python3"
  },
  "language_info": {
   "codemirror_mode": {
    "name": "ipython",
    "version": 3
   },
   "file_extension": ".py",
   "mimetype": "text/x-python",
   "name": "python",
   "nbconvert_exporter": "python",
   "pygments_lexer": "ipython3",
   "version": "3.11.11"
  }
 },
 "nbformat": 4,
 "nbformat_minor": 5
}
