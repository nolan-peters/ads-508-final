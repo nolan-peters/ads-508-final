{
 "cells": [
  {
   "cell_type": "code",
   "execution_count": 2,
   "id": "86bdde71-b12a-44a7-86a0-47714e686ca3",
   "metadata": {},
   "outputs": [],
   "source": [
    "import boto3\n",
    "import pandas as pd\n",
    "import json\n",
    "from io import StringIO"
   ]
  },
  {
   "cell_type": "code",
   "execution_count": 3,
   "id": "cfc525d6-0c71-46ad-a0da-1315824acc64",
   "metadata": {},
   "outputs": [],
   "source": [
    "s3_bucket = \"ads-508-final\"\n",
    "s3_key = \"playstation/games/games.csv\""
   ]
  },
  {
   "cell_type": "code",
   "execution_count": 4,
   "id": "f9cbf112-6cec-49e8-84fe-d07b0e19d35b",
   "metadata": {},
   "outputs": [],
   "source": [
    "s3 = boto3.client(\"s3\")\n",
    "\n",
    "# Read the CSV file from S3\n",
    "response = s3.get_object(Bucket=s3_bucket, Key=s3_key)\n",
    "csv_data = response[\"Body\"].read().decode(\"utf-8\")\n",
    "\n",
    "# Load CSV into a Pandas DataFrame\n",
    "df = pd.read_csv(StringIO(csv_data))"
   ]
  },
  {
   "cell_type": "code",
   "execution_count": 5,
   "id": "0faa9fd1-4534-45ab-ba32-3eb0281255cf",
   "metadata": {},
   "outputs": [],
   "source": [
    "def fix_array(value):\n",
    "    \"\"\"Converts a Python-style string list to a proper JSON array\"\"\"\n",
    "    if pd.isna(value) or value == \"\":\n",
    "        return \"[]\"  # Empty array\n",
    "    return json.dumps(eval(value))  # Convert to JSON format\n",
    "\n",
    "# Apply fix to all array columns\n",
    "array_columns = ['developers', 'publishers', 'genres', 'supported_languages']\n",
    "for col in array_columns:\n",
    "    df[col] = df[col].apply(fix_array)"
   ]
  },
  {
   "cell_type": "code",
   "execution_count": 6,
   "id": "5f533ce6-b798-48cc-ba1b-6fe87246d32e",
   "metadata": {},
   "outputs": [
    {
     "name": "stdout",
     "output_type": "stream",
     "text": [
      "File successfully updated in s3://ads-508-final/playstation/games/games.csv\n"
     ]
    }
   ],
   "source": [
    "# Convert DataFrame to CSV in memory\n",
    "csv_buffer = StringIO()\n",
    "df.to_csv(csv_buffer, index=False)\n",
    "\n",
    "# Upload back to S3 (overwrite the existing file)\n",
    "s3.put_object(Bucket=s3_bucket, Key=s3_key, Body=csv_buffer.getvalue())\n",
    "\n",
    "print(f\"File successfully updated in s3://{s3_bucket}/{s3_key}\")"
   ]
  },
  {
   "cell_type": "code",
   "execution_count": null,
   "id": "3259ab90-d752-42b4-bf07-1e183d2837b4",
   "metadata": {},
   "outputs": [],
   "source": []
  }
 ],
 "metadata": {
  "kernelspec": {
   "display_name": "Python 3 (ipykernel)",
   "language": "python",
   "name": "python3"
  },
  "language_info": {
   "codemirror_mode": {
    "name": "ipython",
    "version": 3
   },
   "file_extension": ".py",
   "mimetype": "text/x-python",
   "name": "python",
   "nbconvert_exporter": "python",
   "pygments_lexer": "ipython3",
   "version": "3.11.11"
  }
 },
 "nbformat": 4,
 "nbformat_minor": 5
}
