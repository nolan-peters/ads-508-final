{
 "cells": [
  {
   "cell_type": "markdown",
   "id": "6ffc90cf-e7d9-4716-a265-1330e1391990",
   "metadata": {},
   "source": [
    "## No longer needed for now\n",
    "#### Parsing with Athena using:\n",
    "\n",
    "`ROW FORMAT SERDE 'org.apache.hadoop.hive.serde2.OpenCSVSerde' WITH SERDEPROPERTIES (\"separatorChar\" = \",\",\"quoteChar\" = \"\\\\\"\"`"
   ]
  },
  {
   "cell_type": "code",
   "execution_count": 4,
   "id": "86bdde71-b12a-44a7-86a0-47714e686ca3",
   "metadata": {},
   "outputs": [],
   "source": [
    "import boto3\n",
    "import pandas as pd\n",
    "import json\n",
    "from io import StringIO"
   ]
  },
  {
   "cell_type": "code",
   "execution_count": 5,
   "id": "cfc525d6-0c71-46ad-a0da-1315824acc64",
   "metadata": {},
   "outputs": [],
   "source": [
    "s3_bucket = \"ads-508-final\"\n",
    "s3_key = \"playstation/games/games.csv\""
   ]
  },
  {
   "cell_type": "code",
   "execution_count": 6,
   "id": "f9cbf112-6cec-49e8-84fe-d07b0e19d35b",
   "metadata": {},
   "outputs": [
    {
     "name": "stdout",
     "output_type": "stream",
     "text": [
      "File successfully updated in s3://ads-508-final/playstation/games/games.csv\n"
     ]
    }
   ],
   "source": [
    "s3 = boto3.client(\"s3\")\n",
    "\n",
    "# Read the CSV file from S3\n",
    "response = s3.get_object(Bucket=s3_bucket, Key=s3_key)\n",
    "csv_data = response[\"Body\"].read().decode(\"utf-8\")\n",
    "\n",
    "# Load CSV into a Pandas DataFrame\n",
    "df = pd.read_csv(StringIO(csv_data))\n",
    "\n",
    "\n",
    "columns_to_wrap = ['developers', 'publishers', 'genres', 'supported_languages']\n",
    "\n",
    "for col in columns_to_wrap:\n",
    "    df[col] = df[col].apply(lambda x: f'\"{x}\"' if isinstance(x, str) and x.startswith(\"[\") and x.endswith(\"]\") and not x.startswith('\"') else x)\n",
    "\n",
    "# Convert DataFrame to CSV in memory\n",
    "csv_buffer = StringIO()\n",
    "df.to_csv(csv_buffer, index=False, quotechar='\"', encoding=\"utf-8\")\n",
    "\n",
    "# Upload back to S3 (overwrite the existing file)\n",
    "s3.put_object(Bucket=s3_bucket, Key=s3_key, Body=csv_buffer.getvalue())\n",
    "\n",
    "print(f\"File successfully updated in s3://{s3_bucket}/{s3_key}\")"
   ]
  },
  {
   "cell_type": "code",
   "execution_count": null,
   "id": "3259ab90-d752-42b4-bf07-1e183d2837b4",
   "metadata": {},
   "outputs": [],
   "source": []
  }
 ],
 "metadata": {
  "kernelspec": {
   "display_name": "Python 3 (ipykernel)",
   "language": "python",
   "name": "python3"
  },
  "language_info": {
   "codemirror_mode": {
    "name": "ipython",
    "version": 3
   },
   "file_extension": ".py",
   "mimetype": "text/x-python",
   "name": "python",
   "nbconvert_exporter": "python",
   "pygments_lexer": "ipython3",
   "version": "3.11.11"
  }
 },
 "nbformat": 4,
 "nbformat_minor": 5
}
