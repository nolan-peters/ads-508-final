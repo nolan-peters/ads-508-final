{
 "cells": [
  {
   "cell_type": "code",
   "execution_count": 22,
   "id": "29c237b7-35c6-474e-8196-2cdd971c9562",
   "metadata": {},
   "outputs": [],
   "source": [
    "import sagemaker\n",
    "import boto3\n",
    "import pandas as pd\n",
    "import numpy as np\n",
    "from io import StringIO\n",
    "import ast\n",
    "import gc\n",
    "from tqdm import tqdm\n",
    "from sklearn.model_selection import train_test_split\n"
   ]
  },
  {
   "cell_type": "code",
   "execution_count": 2,
   "id": "e044e484-b0d3-495c-9736-5a9d1561ce37",
   "metadata": {},
   "outputs": [],
   "source": [
    "sess = sagemaker.Session()\n",
    "bucket = sess.default_bucket()\n",
    "role = sagemaker.get_execution_role()\n",
    "region = boto3.Session().region_name\n",
    "\n",
    "sm = boto3.Session().client(service_name=\"sagemaker\", region_name=region)\n",
    "s3 = boto3.Session().client(service_name=\"s3\", region_name=region)"
   ]
  },
  {
   "cell_type": "code",
   "execution_count": 3,
   "id": "e10991a7-8ae1-4d2f-8f2d-5441c44b825f",
   "metadata": {},
   "outputs": [],
   "source": [
    "bucket_name = 'ads-508-final'\n",
    "file_key = \"transformeddata/full_ps_data.csv\""
   ]
  },
  {
   "cell_type": "code",
   "execution_count": 4,
   "id": "7705651a-7c29-4f6f-b0bd-486fb32645a8",
   "metadata": {},
   "outputs": [],
   "source": [
    "response = s3.get_object(Bucket=bucket_name, Key=file_key)\n",
    "csv_content = response['Body'].read().decode('utf-8')\n",
    "csv_file = StringIO(csv_content)\n",
    "df = pd.read_csv(csv_file)"
   ]
  },
  {
   "cell_type": "code",
   "execution_count": 5,
   "id": "abf9a472-ebd4-4029-8f43-8435123784bf",
   "metadata": {},
   "outputs": [
    {
     "data": {
      "text/html": [
       "<div>\n",
       "<style scoped>\n",
       "    .dataframe tbody tr th:only-of-type {\n",
       "        vertical-align: middle;\n",
       "    }\n",
       "\n",
       "    .dataframe tbody tr th {\n",
       "        vertical-align: top;\n",
       "    }\n",
       "\n",
       "    .dataframe thead th {\n",
       "        text-align: right;\n",
       "    }\n",
       "</style>\n",
       "<table border=\"1\" class=\"dataframe\">\n",
       "  <thead>\n",
       "    <tr style=\"text-align: right;\">\n",
       "      <th></th>\n",
       "      <th>playerid</th>\n",
       "      <th>gameid</th>\n",
       "      <th>platform</th>\n",
       "      <th>developers</th>\n",
       "      <th>genres</th>\n",
       "      <th>supported_languages</th>\n",
       "      <th>unique_achievements</th>\n",
       "      <th>days_played</th>\n",
       "    </tr>\n",
       "  </thead>\n",
       "  <tbody>\n",
       "    <tr>\n",
       "      <th>0</th>\n",
       "      <td>268071</td>\n",
       "      <td>14972.0</td>\n",
       "      <td>PS4</td>\n",
       "      <td>['arkane studios']</td>\n",
       "      <td>['Action']</td>\n",
       "      <td>['Japanese', 'French', 'Spanish', 'German', 'I...</td>\n",
       "      <td>0.0</td>\n",
       "      <td>0.0</td>\n",
       "    </tr>\n",
       "    <tr>\n",
       "      <th>1</th>\n",
       "      <td>268071</td>\n",
       "      <td>417905.0</td>\n",
       "      <td>PS5</td>\n",
       "      <td>['Sumo Digital']</td>\n",
       "      <td>['Platformer']</td>\n",
       "      <td>['Japanese', 'French', 'Spanish', 'German', 'I...</td>\n",
       "      <td>0.0</td>\n",
       "      <td>0.0</td>\n",
       "    </tr>\n",
       "    <tr>\n",
       "      <th>2</th>\n",
       "      <td>268071</td>\n",
       "      <td>14693.0</td>\n",
       "      <td>PS4</td>\n",
       "      <td>['square enix montreal']</td>\n",
       "      <td>['RPG']</td>\n",
       "      <td>['Japanese', 'French', 'Spanish', 'German', 'I...</td>\n",
       "      <td>0.0</td>\n",
       "      <td>0.0</td>\n",
       "    </tr>\n",
       "    <tr>\n",
       "      <th>3</th>\n",
       "      <td>268071</td>\n",
       "      <td>20162.0</td>\n",
       "      <td>PS4</td>\n",
       "      <td>['Ubisoft Montreal Studio']</td>\n",
       "      <td>['RPG']</td>\n",
       "      <td>['Japanese', 'French', 'Spanish', 'German', 'I...</td>\n",
       "      <td>0.0</td>\n",
       "      <td>0.0</td>\n",
       "    </tr>\n",
       "    <tr>\n",
       "      <th>4</th>\n",
       "      <td>268071</td>\n",
       "      <td>461983.0</td>\n",
       "      <td>PS5</td>\n",
       "      <td>['Ubisoft Annecy']</td>\n",
       "      <td>['Sports', 'Cycling', 'Skiing', 'Snowboarding']</td>\n",
       "      <td>['Japanese', 'French', 'Spanish', 'German', 'I...</td>\n",
       "      <td>0.0</td>\n",
       "      <td>0.0</td>\n",
       "    </tr>\n",
       "  </tbody>\n",
       "</table>\n",
       "</div>"
      ],
      "text/plain": [
       "   playerid    gameid platform                   developers  \\\n",
       "0    268071   14972.0      PS4           ['arkane studios']   \n",
       "1    268071  417905.0      PS5             ['Sumo Digital']   \n",
       "2    268071   14693.0      PS4     ['square enix montreal']   \n",
       "3    268071   20162.0      PS4  ['Ubisoft Montreal Studio']   \n",
       "4    268071  461983.0      PS5           ['Ubisoft Annecy']   \n",
       "\n",
       "                                            genres  \\\n",
       "0                                       ['Action']   \n",
       "1                                   ['Platformer']   \n",
       "2                                          ['RPG']   \n",
       "3                                          ['RPG']   \n",
       "4  ['Sports', 'Cycling', 'Skiing', 'Snowboarding']   \n",
       "\n",
       "                                 supported_languages  unique_achievements  \\\n",
       "0  ['Japanese', 'French', 'Spanish', 'German', 'I...                  0.0   \n",
       "1  ['Japanese', 'French', 'Spanish', 'German', 'I...                  0.0   \n",
       "2  ['Japanese', 'French', 'Spanish', 'German', 'I...                  0.0   \n",
       "3  ['Japanese', 'French', 'Spanish', 'German', 'I...                  0.0   \n",
       "4  ['Japanese', 'French', 'Spanish', 'German', 'I...                  0.0   \n",
       "\n",
       "   days_played  \n",
       "0          0.0  \n",
       "1          0.0  \n",
       "2          0.0  \n",
       "3          0.0  \n",
       "4          0.0  "
      ]
     },
     "execution_count": 5,
     "metadata": {},
     "output_type": "execute_result"
    }
   ],
   "source": [
    "df.head()"
   ]
  },
  {
   "cell_type": "code",
   "execution_count": 6,
   "id": "7653b46a-6915-4a0e-81a0-ce55fff41419",
   "metadata": {},
   "outputs": [
    {
     "data": {
      "text/plain": [
       "playerid                 int64\n",
       "gameid                 float64\n",
       "platform                object\n",
       "developers              object\n",
       "genres                  object\n",
       "supported_languages     object\n",
       "unique_achievements    float64\n",
       "days_played            float64\n",
       "dtype: object"
      ]
     },
     "execution_count": 6,
     "metadata": {},
     "output_type": "execute_result"
    }
   ],
   "source": [
    "df.dtypes"
   ]
  },
  {
   "cell_type": "code",
   "execution_count": 7,
   "id": "252a30f3-d801-43c0-8607-72ec7c453a79",
   "metadata": {},
   "outputs": [],
   "source": [
    "df[\"playerid\"] = df[\"playerid\"].astype(\"category\")\n",
    "df[\"gameid\"] = df[\"gameid\"].astype(\"int\")\n",
    "df[\"gameid\"] = df[\"gameid\"].astype(\"category\")"
   ]
  },
  {
   "cell_type": "code",
   "execution_count": 8,
   "id": "9982dbad-fd6d-447d-88cf-6c9aa2a43874",
   "metadata": {},
   "outputs": [],
   "source": [
    "df['purchased'] = 1"
   ]
  },
  {
   "cell_type": "code",
   "execution_count": 9,
   "id": "626fcc95-607d-4b45-8c9a-42e104d02052",
   "metadata": {},
   "outputs": [],
   "source": [
    "df_fm = df[['playerid', 'gameid', 'purchased']]"
   ]
  },
  {
   "cell_type": "code",
   "execution_count": 10,
   "id": "fcf90abf-87ab-4794-9ebc-d62ed4c92a2c",
   "metadata": {},
   "outputs": [
    {
     "data": {
      "text/plain": [
       "46203"
      ]
     },
     "execution_count": 10,
     "metadata": {},
     "output_type": "execute_result"
    }
   ],
   "source": [
    "del df\n",
    "gc.collect()"
   ]
  },
  {
   "cell_type": "markdown",
   "id": "75c07091-fee5-4d0b-9356-9fb0dd248fe3",
   "metadata": {},
   "source": [
    "### Generate negative samples\n",
    "FMs require negative samples to be included in the dataset for proper training. These interactions were not included in the initial preproccessing steps so they are added here to adjust. "
   ]
  },
  {
   "cell_type": "code",
   "execution_count": 11,
   "id": "9687097d-4970-468f-8a5f-d19c54176a51",
   "metadata": {},
   "outputs": [],
   "source": [
    "all_games = df_fm[\"gameid\"].unique()\n",
    "\n",
    "def generate_negative_samples(df, num_negatives=5):\n",
    "    negative_samples = []\n",
    "    \n",
    "    for player in tqdm(df[\"playerid\"].unique(), desc=\"Generating negative samples\"):\n",
    "        played_games = set(df[df[\"playerid\"] == player][\"gameid\"])\n",
    "        unplayed_games = list(set(all_games) - played_games)\n",
    "\n",
    "        # Randomly select games the player has NOT played\n",
    "        sampled_games = np.random.choice(unplayed_games, min(num_negatives, len(unplayed_games)), replace=False)\n",
    "\n",
    "        for game in sampled_games:\n",
    "            negative_samples.append([player, game, 0])  # 0 = Not played\n",
    "\n",
    "    return pd.DataFrame(negative_samples, columns=[\"playerid\", \"gameid\", \"label\"])"
   ]
  },
  {
   "cell_type": "code",
   "execution_count": 12,
   "id": "d97b8aca-6135-4156-a9e4-8ac9978606e9",
   "metadata": {},
   "outputs": [
    {
     "name": "stderr",
     "output_type": "stream",
     "text": [
      "Generating negative samples: 100%|██████████| 46569/46569 [10:51<00:00, 71.52it/s]\n"
     ]
    }
   ],
   "source": [
    "# Generate negative samples\n",
    "neg_samples = generate_negative_samples(df_fm)"
   ]
  },
  {
   "cell_type": "code",
   "execution_count": 20,
   "id": "75a86960-4642-4a6f-a1f5-6db37712cbae",
   "metadata": {},
   "outputs": [],
   "source": [
    "neg_samples.rename(columns={\"label\": \"purchased\"}, inplace = True)"
   ]
  },
  {
   "cell_type": "code",
   "execution_count": 22,
   "id": "aa3a052b-5885-4170-801b-2ed806527ce9",
   "metadata": {},
   "outputs": [
    {
     "data": {
      "text/html": [
       "<div>\n",
       "<style scoped>\n",
       "    .dataframe tbody tr th:only-of-type {\n",
       "        vertical-align: middle;\n",
       "    }\n",
       "\n",
       "    .dataframe tbody tr th {\n",
       "        vertical-align: top;\n",
       "    }\n",
       "\n",
       "    .dataframe thead th {\n",
       "        text-align: right;\n",
       "    }\n",
       "</style>\n",
       "<table border=\"1\" class=\"dataframe\">\n",
       "  <thead>\n",
       "    <tr style=\"text-align: right;\">\n",
       "      <th></th>\n",
       "      <th>playerid</th>\n",
       "      <th>gameid</th>\n",
       "      <th>purchased</th>\n",
       "    </tr>\n",
       "  </thead>\n",
       "  <tbody>\n",
       "    <tr>\n",
       "      <th>0</th>\n",
       "      <td>268071</td>\n",
       "      <td>14972.0</td>\n",
       "      <td>1</td>\n",
       "    </tr>\n",
       "    <tr>\n",
       "      <th>1</th>\n",
       "      <td>268071</td>\n",
       "      <td>417905.0</td>\n",
       "      <td>1</td>\n",
       "    </tr>\n",
       "    <tr>\n",
       "      <th>2</th>\n",
       "      <td>268071</td>\n",
       "      <td>14693.0</td>\n",
       "      <td>1</td>\n",
       "    </tr>\n",
       "    <tr>\n",
       "      <th>3</th>\n",
       "      <td>268071</td>\n",
       "      <td>20162.0</td>\n",
       "      <td>1</td>\n",
       "    </tr>\n",
       "    <tr>\n",
       "      <th>4</th>\n",
       "      <td>268071</td>\n",
       "      <td>461983.0</td>\n",
       "      <td>1</td>\n",
       "    </tr>\n",
       "  </tbody>\n",
       "</table>\n",
       "</div>"
      ],
      "text/plain": [
       "   playerid    gameid  purchased\n",
       "0    268071   14972.0          1\n",
       "1    268071  417905.0          1\n",
       "2    268071   14693.0          1\n",
       "3    268071   20162.0          1\n",
       "4    268071  461983.0          1"
      ]
     },
     "execution_count": 22,
     "metadata": {},
     "output_type": "execute_result"
    }
   ],
   "source": [
    "df_final = pd.concat([df_fm, neg_samples])"
   ]
  },
  {
   "cell_type": "code",
   "execution_count": 24,
   "id": "4d5a0774-1ed4-4e21-b470-ba6036231eb3",
   "metadata": {},
   "outputs": [],
   "source": [
    "df_final[\"gameid\"] = df_final[\"gameid\"].astype(\"int\")"
   ]
  },
  {
   "cell_type": "code",
   "execution_count": 26,
   "id": "33f600f4-2266-44fd-b832-f1ad796da6fe",
   "metadata": {},
   "outputs": [
    {
     "data": {
      "text/html": [
       "<div>\n",
       "<style scoped>\n",
       "    .dataframe tbody tr th:only-of-type {\n",
       "        vertical-align: middle;\n",
       "    }\n",
       "\n",
       "    .dataframe tbody tr th {\n",
       "        vertical-align: top;\n",
       "    }\n",
       "\n",
       "    .dataframe thead th {\n",
       "        text-align: right;\n",
       "    }\n",
       "</style>\n",
       "<table border=\"1\" class=\"dataframe\">\n",
       "  <thead>\n",
       "    <tr style=\"text-align: right;\">\n",
       "      <th></th>\n",
       "      <th>playerid</th>\n",
       "      <th>gameid</th>\n",
       "      <th>purchased</th>\n",
       "    </tr>\n",
       "  </thead>\n",
       "  <tbody>\n",
       "    <tr>\n",
       "      <th>8623594</th>\n",
       "      <td>3499445</td>\n",
       "      <td>5648</td>\n",
       "      <td>1</td>\n",
       "    </tr>\n",
       "    <tr>\n",
       "      <th>5628943</th>\n",
       "      <td>2968440</td>\n",
       "      <td>465487</td>\n",
       "      <td>1</td>\n",
       "    </tr>\n",
       "    <tr>\n",
       "      <th>5663913</th>\n",
       "      <td>4482757</td>\n",
       "      <td>369738</td>\n",
       "      <td>1</td>\n",
       "    </tr>\n",
       "    <tr>\n",
       "      <th>1141011</th>\n",
       "      <td>327101</td>\n",
       "      <td>5505</td>\n",
       "      <td>1</td>\n",
       "    </tr>\n",
       "    <tr>\n",
       "      <th>6916913</th>\n",
       "      <td>328895</td>\n",
       "      <td>12317</td>\n",
       "      <td>1</td>\n",
       "    </tr>\n",
       "  </tbody>\n",
       "</table>\n",
       "</div>"
      ],
      "text/plain": [
       "         playerid  gameid  purchased\n",
       "8623594   3499445    5648          1\n",
       "5628943   2968440  465487          1\n",
       "5663913   4482757  369738          1\n",
       "1141011    327101    5505          1\n",
       "6916913    328895   12317          1"
      ]
     },
     "execution_count": 26,
     "metadata": {},
     "output_type": "execute_result"
    }
   ],
   "source": [
    "df_final.sample(5)"
   ]
  },
  {
   "cell_type": "markdown",
   "id": "2e210da8-b197-434d-840b-eafbfb2776a9",
   "metadata": {},
   "source": [
    "#### Save progress..."
   ]
  },
  {
   "cell_type": "code",
   "execution_count": 27,
   "id": "48740a30-16cb-4c79-aa2c-77451d9a268a",
   "metadata": {},
   "outputs": [
    {
     "name": "stdout",
     "output_type": "stream",
     "text": [
      "Object saved!\n"
     ]
    }
   ],
   "source": [
    "csv_buffer = StringIO()\n",
    "df_final.to_csv(csv_buffer, index=False)\n",
    "\n",
    "s3.put_object(Bucket='ads-508-final', Key='transformeddata/sm_fm.csv', Body=csv_buffer.getvalue())\n",
    "\n",
    "print(\"Object saved!\")"
   ]
  },
  {
   "cell_type": "markdown",
   "id": "988e1911-bc84-42dc-a867-ca7998dde0ab",
   "metadata": {},
   "source": [
    "### Load in saved csv"
   ]
  },
  {
   "cell_type": "code",
   "execution_count": 3,
   "id": "a04bd927-9330-4f5c-bbe9-9b4e977bbd6e",
   "metadata": {},
   "outputs": [],
   "source": [
    "bucket_name = 'ads-508-final'\n",
    "file_key = \"transformeddata/sm_fm.csv\""
   ]
  },
  {
   "cell_type": "code",
   "execution_count": 4,
   "id": "2c09a453-2ddf-44fc-86af-ebc139af7c58",
   "metadata": {},
   "outputs": [],
   "source": [
    "response = s3.get_object(Bucket=bucket_name, Key=file_key)\n",
    "csv_content = response['Body'].read().decode('utf-8')\n",
    "csv_file = StringIO(csv_content)\n",
    "df = pd.read_csv(csv_file)"
   ]
  },
  {
   "cell_type": "code",
   "execution_count": 8,
   "id": "70743142-6955-44b7-8b95-278d48298c6b",
   "metadata": {},
   "outputs": [
    {
     "data": {
      "text/html": [
       "<div>\n",
       "<style scoped>\n",
       "    .dataframe tbody tr th:only-of-type {\n",
       "        vertical-align: middle;\n",
       "    }\n",
       "\n",
       "    .dataframe tbody tr th {\n",
       "        vertical-align: top;\n",
       "    }\n",
       "\n",
       "    .dataframe thead th {\n",
       "        text-align: right;\n",
       "    }\n",
       "</style>\n",
       "<table border=\"1\" class=\"dataframe\">\n",
       "  <thead>\n",
       "    <tr style=\"text-align: right;\">\n",
       "      <th></th>\n",
       "      <th>playerid</th>\n",
       "      <th>gameid</th>\n",
       "      <th>purchased</th>\n",
       "    </tr>\n",
       "  </thead>\n",
       "  <tbody>\n",
       "    <tr>\n",
       "      <th>0</th>\n",
       "      <td>268071</td>\n",
       "      <td>14972</td>\n",
       "      <td>1</td>\n",
       "    </tr>\n",
       "    <tr>\n",
       "      <th>1</th>\n",
       "      <td>268071</td>\n",
       "      <td>417905</td>\n",
       "      <td>1</td>\n",
       "    </tr>\n",
       "    <tr>\n",
       "      <th>2</th>\n",
       "      <td>268071</td>\n",
       "      <td>14693</td>\n",
       "      <td>1</td>\n",
       "    </tr>\n",
       "    <tr>\n",
       "      <th>3</th>\n",
       "      <td>268071</td>\n",
       "      <td>20162</td>\n",
       "      <td>1</td>\n",
       "    </tr>\n",
       "    <tr>\n",
       "      <th>4</th>\n",
       "      <td>268071</td>\n",
       "      <td>461983</td>\n",
       "      <td>1</td>\n",
       "    </tr>\n",
       "  </tbody>\n",
       "</table>\n",
       "</div>"
      ],
      "text/plain": [
       "   playerid  gameid  purchased\n",
       "0    268071   14972          1\n",
       "1    268071  417905          1\n",
       "2    268071   14693          1\n",
       "3    268071   20162          1\n",
       "4    268071  461983          1"
      ]
     },
     "execution_count": 8,
     "metadata": {},
     "output_type": "execute_result"
    }
   ],
   "source": [
    "df.head()"
   ]
  },
  {
   "cell_type": "markdown",
   "id": "be8c411c-e786-4019-907b-64ebc8c0db01",
   "metadata": {},
   "source": [
    "#### Prepare data for further processing\n",
    "Change the data types then convert to LibSVM format needed for Factorization Machines on SageMaker such that features are represented as as {feature_index}:{value} pairs. "
   ]
  },
  {
   "cell_type": "code",
   "execution_count": 9,
   "id": "50db0a97-ff52-49db-b788-d02b9b6b0114",
   "metadata": {},
   "outputs": [],
   "source": [
    "df[\"purchased\"] = df[\"purchased\"].astype(int)\n",
    "\n",
    "df[\"user_idx\"] = df[\"playerid\"].astype(\"category\").cat.codes\n",
    "df[\"game_idx\"] = df[\"gameid\"].astype(\"category\").cat.codes"
   ]
  },
  {
   "cell_type": "code",
   "execution_count": 14,
   "id": "17cdf9f6-d846-4079-87ca-b29881a5c816",
   "metadata": {},
   "outputs": [],
   "source": [
    "df_fm = df[[\"user_idx\", \"game_idx\", \"purchased\"]]"
   ]
  },
  {
   "cell_type": "markdown",
   "id": "b5b773b0-4c7d-4654-94db-a03b5c0cdfc8",
   "metadata": {},
   "source": [
    "#### Function to covert data to libsvm"
   ]
  },
  {
   "cell_type": "code",
   "execution_count": 15,
   "id": "74d95bb1-3e03-442b-bb8f-43a373d50ccc",
   "metadata": {},
   "outputs": [],
   "source": [
    "def convert_to_libsvm(df, feature_columns, label_column):\n",
    "    libsvm_lines = []\n",
    "    \n",
    "    print(f\"Converting {len(df)} rows to LIBSVM format...\")\n",
    "    \n",
    "    for idx, row in enumerate(df.itertuples(index=False)):\n",
    "        label = int(getattr(row, label_column))\n",
    "        features = \" \".join([f\"{i}:{getattr(row, col)}\" for i, col in enumerate(feature_columns, 1)])\n",
    "        libsvm_line = f\"{label} {features}\"\n",
    "        \n",
    "        if idx % 100000 == 0:\n",
    "            print(f\"Processed {idx} rows... Sample: {libsvm_line}\")\n",
    "        \n",
    "        libsvm_lines.append(libsvm_line)\n",
    "        \n",
    "    return \"\\n\".join(libsvm_lines)"
   ]
  },
  {
   "cell_type": "code",
   "execution_count": 23,
   "id": "10ba219a-7e28-4a13-8188-ffd33d1858e1",
   "metadata": {},
   "outputs": [],
   "source": [
    "train_df, test_df = train_test_split(df_fm, test_size=0.2, random_state=42)"
   ]
  },
  {
   "cell_type": "code",
   "execution_count": null,
   "id": "c9d62066-e52d-45f4-b9ca-cc60a3cf9be6",
   "metadata": {},
   "outputs": [],
   "source": [
    "feature_cols = [\"user_idx\", \"game_idx\"]\n",
    "\n",
    "train_libsvm = convert_to_libsvm(train_df, feature_cols, \"purchased\")\n",
    "test_libsvm = convert_to_libsvm(test_df, feature_cols, \"purchased\")"
   ]
  },
  {
   "cell_type": "code",
   "execution_count": 27,
   "id": "33576824-92a2-452a-969c-b1dca9e7c028",
   "metadata": {},
   "outputs": [
    {
     "data": {
      "text/plain": [
       "{'ResponseMetadata': {'RequestId': 'S1AHJF157NPGEQ7C',\n",
       "  'HostId': 'sIwg8n0vOsK99Qlaa1/TMVkgxXx/H2l8JcitucQVXJva1IpSEG9nVcJ9qamyRuqx3sWeyzWRnUA=',\n",
       "  'HTTPStatusCode': 200,\n",
       "  'HTTPHeaders': {'x-amz-id-2': 'sIwg8n0vOsK99Qlaa1/TMVkgxXx/H2l8JcitucQVXJva1IpSEG9nVcJ9qamyRuqx3sWeyzWRnUA=',\n",
       "   'x-amz-request-id': 'S1AHJF157NPGEQ7C',\n",
       "   'date': 'Tue, 01 Apr 2025 02:38:46 GMT',\n",
       "   'x-amz-server-side-encryption': 'AES256',\n",
       "   'etag': '\"9ed2f11894c3c000a36044c33a6d2161\"',\n",
       "   'x-amz-checksum-crc32': '7GJ8sw==',\n",
       "   'x-amz-checksum-type': 'FULL_OBJECT',\n",
       "   'content-length': '0',\n",
       "   'server': 'AmazonS3'},\n",
       "  'RetryAttempts': 0},\n",
       " 'ETag': '\"9ed2f11894c3c000a36044c33a6d2161\"',\n",
       " 'ChecksumCRC32': '7GJ8sw==',\n",
       " 'ChecksumType': 'FULL_OBJECT',\n",
       " 'ServerSideEncryption': 'AES256'}"
      ]
     },
     "execution_count": 27,
     "metadata": {},
     "output_type": "execute_result"
    }
   ],
   "source": [
    "s3.put_object(Bucket='ads-508-final', Key=\"transformeddata/sm_fm_train.libsvm\", Body=train_libsvm)\n",
    "s3.put_object(Bucket='ads-508-final', Key=\"transformeddata/sm_fm_test.libsvm\", Body=test_libsvm) "
   ]
  },
  {
   "cell_type": "code",
   "execution_count": null,
   "id": "807267f0-d492-4ba1-9a4e-f4421459f39c",
   "metadata": {},
   "outputs": [],
   "source": []
  }
 ],
 "metadata": {
  "kernelspec": {
   "display_name": "Python 3 (ipykernel)",
   "language": "python",
   "name": "python3"
  },
  "language_info": {
   "codemirror_mode": {
    "name": "ipython",
    "version": 3
   },
   "file_extension": ".py",
   "mimetype": "text/x-python",
   "name": "python",
   "nbconvert_exporter": "python",
   "pygments_lexer": "ipython3",
   "version": "3.11.11"
  }
 },
 "nbformat": 4,
 "nbformat_minor": 5
}
