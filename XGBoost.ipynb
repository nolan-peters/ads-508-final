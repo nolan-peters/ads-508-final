{
 "cells": [
  {
   "cell_type": "code",
   "execution_count": 1,
   "id": "b7cadabe-1f07-403b-895e-b8a73ce04fb3",
   "metadata": {},
   "outputs": [
    {
     "name": "stderr",
     "output_type": "stream",
     "text": [
      "/opt/conda/lib/python3.11/site-packages/pydantic/_internal/_fields.py:192: UserWarning: Field name \"json\" in \"MonitoringDatasetFormat\" shadows an attribute in parent \"Base\"\n",
      "  warnings.warn(\n"
     ]
    },
    {
     "name": "stdout",
     "output_type": "stream",
     "text": [
      "sagemaker.config INFO - Not applying SDK defaults from location: /etc/xdg/sagemaker/config.yaml\n",
      "sagemaker.config INFO - Not applying SDK defaults from location: /home/sagemaker-user/.config/sagemaker/config.yaml\n"
     ]
    }
   ],
   "source": [
    "import sagemaker\n",
    "import boto3\n",
    "import xgboost as xgb\n",
    "from sagemaker import get_execution_role\n",
    "from sagemaker.inputs import TrainingInput\n",
    "from sagemaker.xgboost import XGBoostModel"
   ]
  },
  {
   "cell_type": "code",
   "execution_count": 2,
   "id": "3c909fe5-fd90-477a-8f40-69cd0d65cf53",
   "metadata": {},
   "outputs": [],
   "source": [
    "sess = sagemaker.Session()\n",
    "bucket = sess.default_bucket()\n",
    "role = get_execution_role()"
   ]
  },
  {
   "cell_type": "code",
   "execution_count": 3,
   "id": "34ecd313-d07a-44c8-9ce1-c476ca0faaf2",
   "metadata": {},
   "outputs": [],
   "source": [
    "s3_bucket = \"ads-508-final\"\n",
    "s3_prefix = \"transformeddata\"\n",
    "file_path_train = f\"s3://{s3_bucket}/{s3_prefix}/sm_fm_train.libsvm\"\n",
    "file_path_test = f\"s3://{s3_bucket}/{s3_prefix}/sm_fm_test.libsvm\""
   ]
  },
  {
   "cell_type": "code",
   "execution_count": 4,
   "id": "bf725b7c-7000-406a-8081-d785363221e2",
   "metadata": {},
   "outputs": [],
   "source": [
    "#Train and Test Data\n",
    "train_data = TrainingInput(file_path_train, content_type=\"libsvm\")\n",
    "test_data = TrainingInput(file_path_test, content_type=\"libsvm\")"
   ]
  },
  {
   "cell_type": "code",
   "execution_count": 9,
   "id": "2bb1c3a0-d122-4020-8a97-e7feb0170f90",
   "metadata": {},
   "outputs": [],
   "source": [
    "#Parameters\n",
    "hyperparameters = {\n",
    "    \"objective\": \"binary:logistic\",\n",
    "    \"max_depth\": 6, \n",
    "    \"eta\": 0.1,  \n",
    "    \"gamma\": 0,  \n",
    "    \"min_child_weight\": 1,  \n",
    "    \"eval_metric\": \"logloss\", \n",
    "    \"num_round\": 100, \n",
    "}"
   ]
  },
  {
   "cell_type": "code",
   "execution_count": 11,
   "id": "801ed594-a352-4be6-af5f-07a29c9808b5",
   "metadata": {},
   "outputs": [
    {
     "data": {
      "text/html": [
       "<pre style=\"white-space:pre;overflow-x:auto;line-height:normal;font-family:Menlo,'DejaVu Sans Mono',consolas,'Courier New',monospace\"><span style=\"color: #7fbfbf; text-decoration-color: #7fbfbf\">[04/01/25 10:58:52] </span><span style=\"color: #0069ff; text-decoration-color: #0069ff; font-weight: bold\">INFO    </span> Defaulting to only available Python version: py3                     <a href=\"file:///opt/conda/lib/python3.11/site-packages/sagemaker/image_uris.py\" target=\"_blank\"><span style=\"color: #7f7f7f; text-decoration-color: #7f7f7f\">image_uris.py</span></a><span style=\"color: #7f7f7f; text-decoration-color: #7f7f7f\">:</span><a href=\"file:///opt/conda/lib/python3.11/site-packages/sagemaker/image_uris.py#610\" target=\"_blank\"><span style=\"color: #7f7f7f; text-decoration-color: #7f7f7f\">610</span></a>\n",
       "</pre>\n"
      ],
      "text/plain": [
       "\u001b[2;36m[04/01/25 10:58:52]\u001b[0m\u001b[2;36m \u001b[0m\u001b[1;38;2;0;105;255mINFO    \u001b[0m Defaulting to only available Python version: py3                     \u001b]8;id=253145;file:///opt/conda/lib/python3.11/site-packages/sagemaker/image_uris.py\u001b\\\u001b[2mimage_uris.py\u001b[0m\u001b]8;;\u001b\\\u001b[2m:\u001b[0m\u001b]8;id=65559;file:///opt/conda/lib/python3.11/site-packages/sagemaker/image_uris.py#610\u001b\\\u001b[2m610\u001b[0m\u001b]8;;\u001b\\\n"
      ]
     },
     "metadata": {},
     "output_type": "display_data"
    },
    {
     "data": {
      "text/html": [
       "<pre style=\"white-space:pre;overflow-x:auto;line-height:normal;font-family:Menlo,'DejaVu Sans Mono',consolas,'Courier New',monospace\"><span style=\"color: #7fbfbf; text-decoration-color: #7fbfbf\">                    </span><span style=\"color: #0069ff; text-decoration-color: #0069ff; font-weight: bold\">INFO    </span> Defaulting to only supported image scope: cpu.                       <a href=\"file:///opt/conda/lib/python3.11/site-packages/sagemaker/image_uris.py\" target=\"_blank\"><span style=\"color: #7f7f7f; text-decoration-color: #7f7f7f\">image_uris.py</span></a><span style=\"color: #7f7f7f; text-decoration-color: #7f7f7f\">:</span><a href=\"file:///opt/conda/lib/python3.11/site-packages/sagemaker/image_uris.py#534\" target=\"_blank\"><span style=\"color: #7f7f7f; text-decoration-color: #7f7f7f\">534</span></a>\n",
       "</pre>\n"
      ],
      "text/plain": [
       "\u001b[2;36m                   \u001b[0m\u001b[2;36m \u001b[0m\u001b[1;38;2;0;105;255mINFO    \u001b[0m Defaulting to only supported image scope: cpu.                       \u001b]8;id=783052;file:///opt/conda/lib/python3.11/site-packages/sagemaker/image_uris.py\u001b\\\u001b[2mimage_uris.py\u001b[0m\u001b]8;;\u001b\\\u001b[2m:\u001b[0m\u001b]8;id=824074;file:///opt/conda/lib/python3.11/site-packages/sagemaker/image_uris.py#534\u001b\\\u001b[2m534\u001b[0m\u001b]8;;\u001b\\\n"
      ]
     },
     "metadata": {},
     "output_type": "display_data"
    }
   ],
   "source": [
    "#Estimator \n",
    "from sagemaker.estimator import Estimator\n",
    "\n",
    "xgboost_estimator = Estimator(\n",
    "    image_uri=sagemaker.image_uris.retrieve(\"xgboost\", region=sess.boto_region_name, version=\"1.0-1\"),\n",
    "    role=role,\n",
    "    instance_count=1,\n",
    "    instance_type=\"ml.m5.large\",\n",
    "    hyperparameters=hyperparameters,\n",
    "    output_path=f\"s3://{s3_bucket}/{s3_prefix}/output\",\n",
    "    base_job_name=\"xgboost-recommender\",\n",
    ")"
   ]
  },
  {
   "cell_type": "code",
   "execution_count": 12,
   "id": "c2fec989-928b-4af1-813b-c6b9814445c1",
   "metadata": {},
   "outputs": [
    {
     "data": {
      "text/html": [
       "<pre style=\"white-space:pre;overflow-x:auto;line-height:normal;font-family:Menlo,'DejaVu Sans Mono',consolas,'Courier New',monospace\"><span style=\"color: #7fbfbf; text-decoration-color: #7fbfbf\">[04/01/25 10:59:04] </span><span style=\"color: #0069ff; text-decoration-color: #0069ff; font-weight: bold\">INFO    </span> SageMaker Python SDK will collect telemetry to help us better  <a href=\"file:///opt/conda/lib/python3.11/site-packages/sagemaker/telemetry/telemetry_logging.py\" target=\"_blank\"><span style=\"color: #7f7f7f; text-decoration-color: #7f7f7f\">telemetry_logging.py</span></a><span style=\"color: #7f7f7f; text-decoration-color: #7f7f7f\">:</span><a href=\"file:///opt/conda/lib/python3.11/site-packages/sagemaker/telemetry/telemetry_logging.py#91\" target=\"_blank\"><span style=\"color: #7f7f7f; text-decoration-color: #7f7f7f\">91</span></a>\n",
       "<span style=\"color: #7fbfbf; text-decoration-color: #7fbfbf\">                    </span>         understand our user's needs, diagnose issues, and deliver      <span style=\"color: #7f7f7f; text-decoration-color: #7f7f7f\">                       </span>\n",
       "<span style=\"color: #7fbfbf; text-decoration-color: #7fbfbf\">                    </span>         additional features.                                           <span style=\"color: #7f7f7f; text-decoration-color: #7f7f7f\">                       </span>\n",
       "<span style=\"color: #7fbfbf; text-decoration-color: #7fbfbf\">                    </span>         To opt out of telemetry, please disable via TelemetryOptOut    <span style=\"color: #7f7f7f; text-decoration-color: #7f7f7f\">                       </span>\n",
       "<span style=\"color: #7fbfbf; text-decoration-color: #7fbfbf\">                    </span>         parameter in SDK defaults config. For more information, refer  <span style=\"color: #7f7f7f; text-decoration-color: #7f7f7f\">                       </span>\n",
       "<span style=\"color: #7fbfbf; text-decoration-color: #7fbfbf\">                    </span>         to                                                             <span style=\"color: #7f7f7f; text-decoration-color: #7f7f7f\">                       </span>\n",
       "<span style=\"color: #7fbfbf; text-decoration-color: #7fbfbf\">                    </span>         <span style=\"color: #0069ff; text-decoration-color: #0069ff; text-decoration: underline\">https://sagemaker.readthedocs.io/en/stable/overview.html#confi</span> <span style=\"color: #7f7f7f; text-decoration-color: #7f7f7f\">                       </span>\n",
       "<span style=\"color: #7fbfbf; text-decoration-color: #7fbfbf\">                    </span>         <span style=\"color: #0069ff; text-decoration-color: #0069ff; text-decoration: underline\">guring-and-using-defaults-with-the-sagemaker-python-sdk.</span>       <span style=\"color: #7f7f7f; text-decoration-color: #7f7f7f\">                       </span>\n",
       "</pre>\n"
      ],
      "text/plain": [
       "\u001b[2;36m[04/01/25 10:59:04]\u001b[0m\u001b[2;36m \u001b[0m\u001b[1;38;2;0;105;255mINFO    \u001b[0m SageMaker Python SDK will collect telemetry to help us better  \u001b]8;id=617394;file:///opt/conda/lib/python3.11/site-packages/sagemaker/telemetry/telemetry_logging.py\u001b\\\u001b[2mtelemetry_logging.py\u001b[0m\u001b]8;;\u001b\\\u001b[2m:\u001b[0m\u001b]8;id=474556;file:///opt/conda/lib/python3.11/site-packages/sagemaker/telemetry/telemetry_logging.py#91\u001b\\\u001b[2m91\u001b[0m\u001b]8;;\u001b\\\n",
       "\u001b[2;36m                    \u001b[0m         understand our user's needs, diagnose issues, and deliver      \u001b[2m                       \u001b[0m\n",
       "\u001b[2;36m                    \u001b[0m         additional features.                                           \u001b[2m                       \u001b[0m\n",
       "\u001b[2;36m                    \u001b[0m         To opt out of telemetry, please disable via TelemetryOptOut    \u001b[2m                       \u001b[0m\n",
       "\u001b[2;36m                    \u001b[0m         parameter in SDK defaults config. For more information, refer  \u001b[2m                       \u001b[0m\n",
       "\u001b[2;36m                    \u001b[0m         to                                                             \u001b[2m                       \u001b[0m\n",
       "\u001b[2;36m                    \u001b[0m         \u001b[4;38;2;0;105;255mhttps://sagemaker.readthedocs.io/en/stable/overview.html#confi\u001b[0m \u001b[2m                       \u001b[0m\n",
       "\u001b[2;36m                    \u001b[0m         \u001b[4;38;2;0;105;255mguring-and-using-defaults-with-the-sagemaker-python-sdk.\u001b[0m       \u001b[2m                       \u001b[0m\n"
      ]
     },
     "metadata": {},
     "output_type": "display_data"
    },
    {
     "data": {
      "text/html": [
       "<pre style=\"white-space:pre;overflow-x:auto;line-height:normal;font-family:Menlo,'DejaVu Sans Mono',consolas,'Courier New',monospace\"><span style=\"color: #7fbfbf; text-decoration-color: #7fbfbf\">                    </span><span style=\"color: #0069ff; text-decoration-color: #0069ff; font-weight: bold\">INFO    </span> Creating training-job with name:                                       <a href=\"file:///opt/conda/lib/python3.11/site-packages/sagemaker/session.py\" target=\"_blank\"><span style=\"color: #7f7f7f; text-decoration-color: #7f7f7f\">session.py</span></a><span style=\"color: #7f7f7f; text-decoration-color: #7f7f7f\">:</span><a href=\"file:///opt/conda/lib/python3.11/site-packages/sagemaker/session.py#1042\" target=\"_blank\"><span style=\"color: #7f7f7f; text-decoration-color: #7f7f7f\">1042</span></a>\n",
       "<span style=\"color: #7fbfbf; text-decoration-color: #7fbfbf\">                    </span>         xgboost-recommender-<span style=\"color: #008080; text-decoration-color: #008080; font-weight: bold\">2025</span>-04-01-10-59-04-330                            <span style=\"color: #7f7f7f; text-decoration-color: #7f7f7f\">               </span>\n",
       "</pre>\n"
      ],
      "text/plain": [
       "\u001b[2;36m                   \u001b[0m\u001b[2;36m \u001b[0m\u001b[1;38;2;0;105;255mINFO    \u001b[0m Creating training-job with name:                                       \u001b]8;id=866869;file:///opt/conda/lib/python3.11/site-packages/sagemaker/session.py\u001b\\\u001b[2msession.py\u001b[0m\u001b]8;;\u001b\\\u001b[2m:\u001b[0m\u001b]8;id=84385;file:///opt/conda/lib/python3.11/site-packages/sagemaker/session.py#1042\u001b\\\u001b[2m1042\u001b[0m\u001b]8;;\u001b\\\n",
       "\u001b[2;36m                    \u001b[0m         xgboost-recommender-\u001b[1;36m2025\u001b[0m-04-01-10-59-04-330                            \u001b[2m               \u001b[0m\n"
      ]
     },
     "metadata": {},
     "output_type": "display_data"
    },
    {
     "name": "stdout",
     "output_type": "stream",
     "text": [
      "2025-04-01 10:59:05 Starting - Starting the training job...\n",
      "..25-04-01 10:59:21 Starting - Preparing the instances for training.\n",
      "..25-04-01 10:59:42 Downloading - Downloading input data.\n",
      "....\u001b[34m[2025-04-01 11:01:18.044 ip-10-0-222-72.ec2.internal:7 INFO utils.py:27] RULE_JOB_STOP_SIGNAL_FILENAME: None\u001b[0m\n",
      "\u001b[34mINFO:sagemaker-containers:Imported framework sagemaker_xgboost_container.training\u001b[0m\n",
      "\u001b[34mINFO:sagemaker-containers:Failed to parse hyperparameter eval_metric value logloss to Json.\u001b[0m\n",
      "\u001b[34mReturning the value itself\u001b[0m\n",
      "\u001b[34mINFO:sagemaker-containers:Failed to parse hyperparameter objective value binary:logistic to Json.\u001b[0m\n",
      "\u001b[34mReturning the value itself\u001b[0m\n",
      "\u001b[34mINFO:sagemaker-containers:No GPUs detected (normal if no gpus installed)\u001b[0m\n",
      "\u001b[34mINFO:sagemaker_xgboost_container.training:Running XGBoost Sagemaker in algorithm mode\u001b[0m\n",
      "\u001b[34mINFO:root:Single node training.\u001b[0m\n",
      "\u001b[34m[11:01:19] 7140627x3 matrix with 14281254 entries loaded from /opt/ml/input/data/train\u001b[0m\n",
      "\u001b[34m[11:01:19] 1785157x3 matrix with 3570314 entries loaded from /opt/ml/input/data/validation\u001b[0m\n",
      "\u001b[34m[2025-04-01 11:01:19.907 ip-10-0-222-72.ec2.internal:7 INFO json_config.py:91] Creating hook from json_config at /opt/ml/input/config/debughookconfig.json.\u001b[0m\n",
      "\u001b[34m[2025-04-01 11:01:19.907 ip-10-0-222-72.ec2.internal:7 INFO hook.py:201] tensorboard_dir has not been set for the hook. SMDebug will not be exporting tensorboard summaries.\u001b[0m\n",
      "\u001b[34m[2025-04-01 11:01:19.908 ip-10-0-222-72.ec2.internal:7 INFO profiler_config_parser.py:102] User has disabled profiler.\u001b[0m\n",
      "\u001b[34m[2025-04-01 11:01:19.908 ip-10-0-222-72.ec2.internal:7 INFO hook.py:255] Saving to /opt/ml/output/tensors\u001b[0m\n",
      "\u001b[34m[2025-04-01 11:01:19.909 ip-10-0-222-72.ec2.internal:7 INFO state_store.py:77] The checkpoint config file /opt/ml/input/config/checkpointconfig.json does not exist.\u001b[0m\n",
      "\u001b[34mINFO:root:Debug hook created from config\u001b[0m\n",
      "\u001b[34mINFO:root:Train matrix has 7140627 rows\u001b[0m\n",
      "\u001b[34mINFO:root:Validation matrix has 1785157 rows\u001b[0m\n",
      "\n",
      "2025-04-01 11:01:13 Training - Training image download completed. Training in progress.\u001b[34m[11:01:20] WARNING: /workspace/src/gbm/gbtree.cc:138: Tree method is automatically selected to be 'approx' for faster speed. To use old behavior (exact greedy algorithm on single machine), set tree_method to 'exact'.\u001b[0m\n",
      "\u001b[34m[0]#011train-logloss:0.61609#011validation-logloss:0.60454\u001b[0m\n",
      "\u001b[34m[2025-04-01 11:01:26.725 ip-10-0-222-72.ec2.internal:7 INFO hook.py:423] Monitoring the collections: metrics\u001b[0m\n",
      "\u001b[34m[2025-04-01 11:01:26.727 ip-10-0-222-72.ec2.internal:7 INFO hook.py:486] Hook is writing from the hook with pid: 7\u001b[0m\n",
      "\u001b[34m[1]#011train-logloss:0.52255#011validation-logloss:0.53906\u001b[0m\n",
      "\u001b[34m[2]#011train-logloss:0.48734#011validation-logloss:0.48017\u001b[0m\n",
      "\u001b[34m[3]#011train-logloss:0.41849#011validation-logloss:0.42974\u001b[0m\n",
      "\u001b[34m[4]#011train-logloss:0.39431#011validation-logloss:0.38856\u001b[0m\n",
      "\u001b[34m[5]#011train-logloss:0.35412#011validation-logloss:0.35184\u001b[0m\n",
      "\u001b[34m[6]#011train-logloss:0.32469#011validation-logloss:0.32040\u001b[0m\n",
      "\u001b[34m[7]#011train-logloss:0.28988#011validation-logloss:0.29389\u001b[0m\n",
      "\u001b[34m[8]#011train-logloss:0.27648#011validation-logloss:0.27189\u001b[0m\n",
      "\u001b[34m[9]#011train-logloss:0.24723#011validation-logloss:0.25052\u001b[0m\n",
      "\u001b[34m[10]#011train-logloss:0.23247#011validation-logloss:0.23348\u001b[0m\n",
      "\u001b[34m[11]#011train-logloss:0.22079#011validation-logloss:0.21802\u001b[0m\n",
      "\u001b[34m[12]#011train-logloss:0.20317#011validation-logloss:0.20454\u001b[0m\n",
      "\u001b[34m[13]#011train-logloss:0.18885#011validation-logloss:0.19235\u001b[0m\n",
      "\u001b[34m[14]#011train-logloss:0.18059#011validation-logloss:0.18185\u001b[0m\n",
      "\u001b[34m[15]#011train-logloss:0.17559#011validation-logloss:0.17286\u001b[0m\n",
      "\u001b[34m[16]#011train-logloss:0.16462#011validation-logloss:0.16466\u001b[0m\n",
      "\u001b[34m[17]#011train-logloss:0.15725#011validation-logloss:0.15775\u001b[0m\n",
      "\u001b[34m[18]#011train-logloss:0.15257#011validation-logloss:0.15180\u001b[0m\n",
      "\u001b[34m[19]#011train-logloss:0.14790#011validation-logloss:0.14646\u001b[0m\n",
      "\u001b[34m[20]#011train-logloss:0.14058#011validation-logloss:0.14122\u001b[0m\n",
      "\u001b[34m[21]#011train-logloss:0.13595#011validation-logloss:0.13718\u001b[0m\n",
      "\u001b[34m[22]#011train-logloss:0.13245#011validation-logloss:0.13306\u001b[0m\n",
      "\u001b[34m[23]#011train-logloss:0.13029#011validation-logloss:0.12938\u001b[0m\n",
      "\u001b[34m[24]#011train-logloss:0.12836#011validation-logloss:0.12664\u001b[0m\n",
      "\u001b[34m[25]#011train-logloss:0.12574#011validation-logloss:0.12441\u001b[0m\n",
      "\u001b[34m[26]#011train-logloss:0.12213#011validation-logloss:0.12169\u001b[0m\n",
      "\u001b[34m[27]#011train-logloss:0.11977#011validation-logloss:0.11997\u001b[0m\n",
      "\u001b[34m[28]#011train-logloss:0.11777#011validation-logloss:0.11854\u001b[0m\n",
      "\u001b[34m[29]#011train-logloss:0.11542#011validation-logloss:0.11644\u001b[0m\n",
      "\u001b[34m[30]#011train-logloss:0.11446#011validation-logloss:0.11538\u001b[0m\n",
      "\u001b[34m[31]#011train-logloss:0.11304#011validation-logloss:0.11375\u001b[0m\n",
      "\u001b[34m[32]#011train-logloss:0.11212#011validation-logloss:0.11226\u001b[0m\n",
      "\u001b[34m[33]#011train-logloss:0.11147#011validation-logloss:0.11098\u001b[0m\n",
      "\u001b[34m[34]#011train-logloss:0.11077#011validation-logloss:0.10990\u001b[0m\n",
      "\u001b[34m[35]#011train-logloss:0.11036#011validation-logloss:0.10938\u001b[0m\n",
      "\u001b[34m[36]#011train-logloss:0.10966#011validation-logloss:0.10845\u001b[0m\n",
      "\u001b[34m[37]#011train-logloss:0.10897#011validation-logloss:0.10765\u001b[0m\n",
      "\u001b[34m[38]#011train-logloss:0.10831#011validation-logloss:0.10697\u001b[0m\n",
      "\u001b[34m[39]#011train-logloss:0.10800#011validation-logloss:0.10666\u001b[0m\n",
      "\u001b[34m[40]#011train-logloss:0.10757#011validation-logloss:0.10637\u001b[0m\n",
      "\u001b[34m[41]#011train-logloss:0.10724#011validation-logloss:0.10618\u001b[0m\n",
      "\u001b[34m[42]#011train-logloss:0.10654#011validation-logloss:0.10563\u001b[0m\n",
      "\u001b[34m[43]#011train-logloss:0.10596#011validation-logloss:0.10515\u001b[0m\n",
      "\u001b[34m[44]#011train-logloss:0.10531#011validation-logloss:0.10476\u001b[0m\n",
      "\u001b[34m[45]#011train-logloss:0.10476#011validation-logloss:0.10440\u001b[0m\n",
      "\u001b[34m[46]#011train-logloss:0.10424#011validation-logloss:0.10414\u001b[0m\n",
      "\u001b[34m[47]#011train-logloss:0.10371#011validation-logloss:0.10386\u001b[0m\n",
      "\u001b[34m[48]#011train-logloss:0.10337#011validation-logloss:0.10364\u001b[0m\n",
      "\u001b[34m[49]#011train-logloss:0.10324#011validation-logloss:0.10353\u001b[0m\n",
      "\u001b[34m[50]#011train-logloss:0.10315#011validation-logloss:0.10343\u001b[0m\n",
      "\u001b[34m[51]#011train-logloss:0.10291#011validation-logloss:0.10325\u001b[0m\n",
      "\u001b[34m[52]#011train-logloss:0.10283#011validation-logloss:0.10316\u001b[0m\n",
      "\u001b[34m[53]#011train-logloss:0.10264#011validation-logloss:0.10299\u001b[0m\n",
      "\u001b[34m[54]#011train-logloss:0.10248#011validation-logloss:0.10285\u001b[0m\n",
      "\u001b[34m[55]#011train-logloss:0.10232#011validation-logloss:0.10272\u001b[0m\n",
      "\u001b[34m[56]#011train-logloss:0.10216#011validation-logloss:0.10261\u001b[0m\n",
      "\u001b[34m[57]#011train-logloss:0.10213#011validation-logloss:0.10255\u001b[0m\n",
      "\u001b[34m[58]#011train-logloss:0.10209#011validation-logloss:0.10251\u001b[0m\n",
      "\u001b[34m[59]#011train-logloss:0.10205#011validation-logloss:0.10247\u001b[0m\n",
      "\u001b[34m[60]#011train-logloss:0.10192#011validation-logloss:0.10238\u001b[0m\n",
      "\u001b[34m[61]#011train-logloss:0.10179#011validation-logloss:0.10230\u001b[0m\n",
      "\u001b[34m[62]#011train-logloss:0.10168#011validation-logloss:0.10224\u001b[0m\n",
      "\u001b[34m[63]#011train-logloss:0.10161#011validation-logloss:0.10220\u001b[0m\n",
      "\u001b[34m[64]#011train-logloss:0.10156#011validation-logloss:0.10216\u001b[0m\n",
      "\u001b[34m[65]#011train-logloss:0.10152#011validation-logloss:0.10214\u001b[0m\n",
      "\u001b[34m[66]#011train-logloss:0.10145#011validation-logloss:0.10209\u001b[0m\n",
      "\u001b[34m[67]#011train-logloss:0.10142#011validation-logloss:0.10206\u001b[0m\n",
      "\u001b[34m[68]#011train-logloss:0.10135#011validation-logloss:0.10201\u001b[0m\n",
      "\u001b[34m[69]#011train-logloss:0.10132#011validation-logloss:0.10199\u001b[0m\n",
      "\u001b[34m[70]#011train-logloss:0.10130#011validation-logloss:0.10196\u001b[0m\n",
      "\u001b[34m[71]#011train-logloss:0.10127#011validation-logloss:0.10195\u001b[0m\n",
      "\u001b[34m[72]#011train-logloss:0.10127#011validation-logloss:0.10193\u001b[0m\n",
      "\u001b[34m[73]#011train-logloss:0.10120#011validation-logloss:0.10190\u001b[0m\n",
      "\u001b[34m[74]#011train-logloss:0.10117#011validation-logloss:0.10188\u001b[0m\n",
      "\u001b[34m[75]#011train-logloss:0.10117#011validation-logloss:0.10187\u001b[0m\n",
      "\u001b[34m[76]#011train-logloss:0.10116#011validation-logloss:0.10186\u001b[0m\n",
      "\u001b[34m[77]#011train-logloss:0.10111#011validation-logloss:0.10184\u001b[0m\n",
      "\u001b[34m[78]#011train-logloss:0.10109#011validation-logloss:0.10182\u001b[0m\n",
      "\u001b[34m[79]#011train-logloss:0.10108#011validation-logloss:0.10182\u001b[0m\n",
      "\u001b[34m[80]#011train-logloss:0.10107#011validation-logloss:0.10181\u001b[0m\n",
      "\u001b[34m[81]#011train-logloss:0.10101#011validation-logloss:0.10179\u001b[0m\n",
      "\u001b[34m[82]#011train-logloss:0.10101#011validation-logloss:0.10178\u001b[0m\n",
      "\u001b[34m[83]#011train-logloss:0.10095#011validation-logloss:0.10176\u001b[0m\n",
      "\u001b[34m[84]#011train-logloss:0.10093#011validation-logloss:0.10175\u001b[0m\n",
      "\u001b[34m[85]#011train-logloss:0.10089#011validation-logloss:0.10172\u001b[0m\n",
      "\u001b[34m[86]#011train-logloss:0.10088#011validation-logloss:0.10171\u001b[0m\n",
      "\u001b[34m[87]#011train-logloss:0.10087#011validation-logloss:0.10171\u001b[0m\n",
      "\u001b[34m[88]#011train-logloss:0.10084#011validation-logloss:0.10169\u001b[0m\n",
      "\u001b[34m[89]#011train-logloss:0.10080#011validation-logloss:0.10167\u001b[0m\n",
      "\u001b[34m[90]#011train-logloss:0.10075#011validation-logloss:0.10164\u001b[0m\n",
      "\u001b[34m[91]#011train-logloss:0.10075#011validation-logloss:0.10164\u001b[0m\n",
      "\u001b[34m[92]#011train-logloss:0.10074#011validation-logloss:0.10163\u001b[0m\n",
      "\u001b[34m[93]#011train-logloss:0.10071#011validation-logloss:0.10161\u001b[0m\n",
      "\u001b[34m[94]#011train-logloss:0.10071#011validation-logloss:0.10161\u001b[0m\n",
      "\u001b[34m[95]#011train-logloss:0.10069#011validation-logloss:0.10159\u001b[0m\n",
      "\u001b[34m[96]#011train-logloss:0.10066#011validation-logloss:0.10157\u001b[0m\n",
      "\u001b[34m[97]#011train-logloss:0.10063#011validation-logloss:0.10156\u001b[0m\n",
      "\u001b[34m[98]#011train-logloss:0.10063#011validation-logloss:0.10155\u001b[0m\n",
      "\u001b[34m[99]#011train-logloss:0.10062#011validation-logloss:0.10155\u001b[0m\n",
      "\n",
      "2025-04-01 11:10:34 Uploading - Uploading generated training model\n",
      "2025-04-01 11:10:34 Completed - Training job completed\n",
      "Training seconds: 651\n",
      "Billable seconds: 651\n"
     ]
    }
   ],
   "source": [
    "#Fit\n",
    "xgboost_estimator.fit({\"train\": train_data, \"validation\": test_data})"
   ]
  },
  {
   "cell_type": "code",
   "execution_count": null,
   "id": "7edcac1d-c207-4c5c-a187-cc21289badbe",
   "metadata": {},
   "outputs": [],
   "source": [
    "#Predictions\n",
    "\n",
    "xgboost_model = xgboost_estimator.deploy(\n",
    "    initial_instance_count=1, \n",
    "    instance_type=\"ml.m5.large\"\n",
    ")"
   ]
  }
 ],
 "metadata": {
  "kernelspec": {
   "display_name": "Python 3 (ipykernel)",
   "language": "python",
   "name": "python3"
  },
  "language_info": {
   "codemirror_mode": {
    "name": "ipython",
    "version": 3
   },
   "file_extension": ".py",
   "mimetype": "text/x-python",
   "name": "python",
   "nbconvert_exporter": "python",
   "pygments_lexer": "ipython3",
   "version": "3.11.11"
  }
 },
 "nbformat": 4,
 "nbformat_minor": 5
}
