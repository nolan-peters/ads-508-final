{
 "cells": [
  {
   "cell_type": "code",
   "execution_count": 1,
   "id": "b1da6cdf-ecb2-494c-9fd6-0ee0dcefc4dd",
   "metadata": {},
   "outputs": [],
   "source": [
    "import sagemaker\n",
    "import boto3\n",
    "import pandas as pd\n",
    "from io import StringIO\n",
    "import ast"
   ]
  },
  {
   "cell_type": "code",
   "execution_count": 2,
   "id": "53512ded-c5e1-4d91-88df-fa1dcaae2130",
   "metadata": {},
   "outputs": [],
   "source": [
    "sess = sagemaker.Session()\n",
    "bucket = sess.default_bucket()\n",
    "role = sagemaker.get_execution_role()\n",
    "region = boto3.Session().region_name\n",
    "\n",
    "sm = boto3.Session().client(service_name=\"sagemaker\", region_name=region)\n",
    "s3 = boto3.Session().client(service_name=\"s3\", region_name=region)"
   ]
  },
  {
   "cell_type": "markdown",
   "id": "1d998e15-ca27-41e1-b17f-86a48e4ceba5",
   "metadata": {},
   "source": [
    "### Get library for every user"
   ]
  },
  {
   "cell_type": "markdown",
   "id": "ec750ef1-598e-464c-a0de-5fb5095d5575",
   "metadata": {},
   "source": [
    "Set the user_id and gameid for all users"
   ]
  },
  {
   "cell_type": "code",
   "execution_count": 3,
   "id": "eb3e2601-f2e7-446e-b506-9eac732bc239",
   "metadata": {},
   "outputs": [],
   "source": [
    "def load_data(file_key):    \n",
    "    bucket_name = 'ads-508-final'\n",
    "    file_key = f\"playstation/{file_key}/{file_key}.csv\"\n",
    "    \n",
    "    response = s3.get_object(Bucket=bucket_name, Key=file_key)\n",
    "    \n",
    "    csv_content = response['Body'].read().decode('utf-8')\n",
    "    \n",
    "    csv_file = StringIO(csv_content)\n",
    "    \n",
    "    df = pd.read_csv(csv_file)\n",
    "\n",
    "    return df"
   ]
  },
  {
   "cell_type": "code",
   "execution_count": 4,
   "id": "3a1de206-7cc7-4b36-a682-9c12cb6d3ced",
   "metadata": {},
   "outputs": [],
   "source": [
    "df_purch = load_data(\"purchased_games\")"
   ]
  },
  {
   "cell_type": "code",
   "execution_count": 5,
   "id": "24cebea3-99d6-4e18-b69e-a8fd13e9376a",
   "metadata": {},
   "outputs": [],
   "source": [
    "def conv_str_exp(df, col):\n",
    "    \"\"\"Convert columns type if needed then explode\"\"\"\n",
    "    \n",
    "    df[col] = df[col].apply(lambda x: ast.literal_eval(x) if isinstance(x, str) else x)\n",
    "    df_exploded = df.explode(col, ignore_index=True)\n",
    "    return df_exploded"
   ]
  },
  {
   "cell_type": "code",
   "execution_count": 6,
   "id": "bfe75aff-c410-436c-8a23-4872b86665bd",
   "metadata": {},
   "outputs": [],
   "source": [
    "df_player = conv_str_exp(df_purch, 'library')"
   ]
  },
  {
   "cell_type": "markdown",
   "id": "686af848-9b52-40cc-a1ba-99b5afa3ce42",
   "metadata": {},
   "source": [
    "### Add game meta data\n",
    "Add additional metadata about the game for training"
   ]
  },
  {
   "cell_type": "code",
   "execution_count": 7,
   "id": "87f31691-b89e-4a3a-a45a-73f58bee0a31",
   "metadata": {},
   "outputs": [],
   "source": [
    "df_games = load_data(\"games\")"
   ]
  },
  {
   "cell_type": "code",
   "execution_count": 8,
   "id": "fe5d0d2e-cc1c-46cc-9e67-5163ee66e7d6",
   "metadata": {},
   "outputs": [],
   "source": [
    "df_games = df_games.drop(columns = ['release_date', 'title', 'publishers'])"
   ]
  },
  {
   "cell_type": "code",
   "execution_count": 9,
   "id": "4245c1d6-b149-490a-93cf-4efcac73aaf0",
   "metadata": {},
   "outputs": [],
   "source": [
    "df_games_meta = pd.merge(df_player, df_games, left_on='library', right_on='gameid', how='left')"
   ]
  },
  {
   "cell_type": "code",
   "execution_count": 10,
   "id": "aa7d0100-8274-4e45-b25c-0e6e7f33dad5",
   "metadata": {},
   "outputs": [],
   "source": [
    "# df_games_meta['gameid'] = df_games_meta['gameid'].astype('Int64')"
   ]
  },
  {
   "cell_type": "code",
   "execution_count": 11,
   "id": "74ebf1aa-b7e2-473e-93e1-0d0689ecdc88",
   "metadata": {},
   "outputs": [],
   "source": [
    "df_games_meta['player_game_id'] = df_games_meta['playerid'].astype('str') + \"_\" + df_games_meta['library'].astype('str')"
   ]
  },
  {
   "cell_type": "markdown",
   "id": "a8d3e54a-b178-4fa1-ba9e-228406e23e0b",
   "metadata": {},
   "source": [
    "#### Keep only records with game metadata available"
   ]
  },
  {
   "cell_type": "code",
   "execution_count": 12,
   "id": "a868f4be-f1bb-4714-8d99-6afeb55ff3d2",
   "metadata": {},
   "outputs": [
    {
     "data": {
      "text/html": [
       "<div>\n",
       "<style scoped>\n",
       "    .dataframe tbody tr th:only-of-type {\n",
       "        vertical-align: middle;\n",
       "    }\n",
       "\n",
       "    .dataframe tbody tr th {\n",
       "        vertical-align: top;\n",
       "    }\n",
       "\n",
       "    .dataframe thead th {\n",
       "        text-align: right;\n",
       "    }\n",
       "</style>\n",
       "<table border=\"1\" class=\"dataframe\">\n",
       "  <thead>\n",
       "    <tr style=\"text-align: right;\">\n",
       "      <th></th>\n",
       "      <th>playerid</th>\n",
       "      <th>library</th>\n",
       "      <th>gameid</th>\n",
       "      <th>platform</th>\n",
       "      <th>developers</th>\n",
       "      <th>genres</th>\n",
       "      <th>supported_languages</th>\n",
       "      <th>player_game_id</th>\n",
       "    </tr>\n",
       "  </thead>\n",
       "  <tbody>\n",
       "    <tr>\n",
       "      <th>6128458</th>\n",
       "      <td>3014524</td>\n",
       "      <td>577777</td>\n",
       "      <td>NaN</td>\n",
       "      <td>NaN</td>\n",
       "      <td>NaN</td>\n",
       "      <td>NaN</td>\n",
       "      <td>NaN</td>\n",
       "      <td>3014524_577777</td>\n",
       "    </tr>\n",
       "    <tr>\n",
       "      <th>6296009</th>\n",
       "      <td>301510</td>\n",
       "      <td>442072</td>\n",
       "      <td>NaN</td>\n",
       "      <td>NaN</td>\n",
       "      <td>NaN</td>\n",
       "      <td>NaN</td>\n",
       "      <td>NaN</td>\n",
       "      <td>301510_442072</td>\n",
       "    </tr>\n",
       "    <tr>\n",
       "      <th>7781040</th>\n",
       "      <td>2698601</td>\n",
       "      <td>3906</td>\n",
       "      <td>NaN</td>\n",
       "      <td>NaN</td>\n",
       "      <td>NaN</td>\n",
       "      <td>NaN</td>\n",
       "      <td>NaN</td>\n",
       "      <td>2698601_3906</td>\n",
       "    </tr>\n",
       "    <tr>\n",
       "      <th>4521547</th>\n",
       "      <td>1307766</td>\n",
       "      <td>717</td>\n",
       "      <td>NaN</td>\n",
       "      <td>NaN</td>\n",
       "      <td>NaN</td>\n",
       "      <td>NaN</td>\n",
       "      <td>NaN</td>\n",
       "      <td>1307766_717</td>\n",
       "    </tr>\n",
       "    <tr>\n",
       "      <th>6644088</th>\n",
       "      <td>369475</td>\n",
       "      <td>4994</td>\n",
       "      <td>NaN</td>\n",
       "      <td>NaN</td>\n",
       "      <td>NaN</td>\n",
       "      <td>NaN</td>\n",
       "      <td>NaN</td>\n",
       "      <td>369475_4994</td>\n",
       "    </tr>\n",
       "  </tbody>\n",
       "</table>\n",
       "</div>"
      ],
      "text/plain": [
       "         playerid library  gameid platform developers genres  \\\n",
       "6128458   3014524  577777     NaN      NaN        NaN    NaN   \n",
       "6296009    301510  442072     NaN      NaN        NaN    NaN   \n",
       "7781040   2698601    3906     NaN      NaN        NaN    NaN   \n",
       "4521547   1307766     717     NaN      NaN        NaN    NaN   \n",
       "6644088    369475    4994     NaN      NaN        NaN    NaN   \n",
       "\n",
       "        supported_languages  player_game_id  \n",
       "6128458                 NaN  3014524_577777  \n",
       "6296009                 NaN   301510_442072  \n",
       "7781040                 NaN    2698601_3906  \n",
       "4521547                 NaN     1307766_717  \n",
       "6644088                 NaN     369475_4994  "
      ]
     },
     "execution_count": 12,
     "metadata": {},
     "output_type": "execute_result"
    }
   ],
   "source": [
    "df_games_meta[df_games_meta['gameid'].isna()].sample(5)"
   ]
  },
  {
   "cell_type": "code",
   "execution_count": 13,
   "id": "6f765a02-0780-4494-b25e-ef59779df107",
   "metadata": {},
   "outputs": [],
   "source": [
    "df_games_meta.dropna(subset=['gameid'], inplace=True)"
   ]
  },
  {
   "cell_type": "markdown",
   "id": "196678b3-446a-45e7-ad4c-e9767c96705f",
   "metadata": {},
   "source": [
    "### Derive interaction characteristics from achievements data"
   ]
  },
  {
   "cell_type": "markdown",
   "id": "8068eb18-e83b-405f-a3f8-218fb7ede4ae",
   "metadata": {},
   "source": [
    "### Acheivement features to extract\n",
    "1. Time between first and last trophy pergame per user and use an an approximate for game engagement\n",
    "2. Number of trophies per user per game\n",
    "3. Define user_game to join back to main dataset\n",
    "\n",
    "We will ignore trophy metadata for now and focus"
   ]
  },
  {
   "cell_type": "code",
   "execution_count": 14,
   "id": "9c0aee89-dce1-4387-a376-9e0d5f9df1eb",
   "metadata": {},
   "outputs": [],
   "source": [
    "df_hist = load_data(\"history\")"
   ]
  },
  {
   "cell_type": "code",
   "execution_count": 15,
   "id": "34df5087-9c9b-4a52-97ae-1d989eeef188",
   "metadata": {},
   "outputs": [],
   "source": [
    "df_hist['game'] = df_hist['achievementid'].str.split('_').str[0]"
   ]
  },
  {
   "cell_type": "code",
   "execution_count": 16,
   "id": "b9cddc8d-4d35-4081-8056-56a7ae610f11",
   "metadata": {},
   "outputs": [],
   "source": [
    "df_hist['date_acquired'] = pd.to_datetime(df_hist['date_acquired'])"
   ]
  },
  {
   "cell_type": "code",
   "execution_count": 17,
   "id": "2e0465fe-b1ad-443d-9307-5e04ed43b245",
   "metadata": {},
   "outputs": [],
   "source": [
    "df_hist_group = df_hist.groupby(['playerid', 'game']).agg({\n",
    "    'date_acquired': ['min', 'max'],\n",
    "    'achievementid': 'nunique'\n",
    "}).reset_index()"
   ]
  },
  {
   "cell_type": "code",
   "execution_count": 18,
   "id": "f956f08c-ce76-4792-99e6-6ba8ebdc111e",
   "metadata": {},
   "outputs": [],
   "source": [
    "df_hist_group.columns = ['playerid', 'game', 'date_acquired_min', 'date_acquired_max', 'unique_achievements']"
   ]
  },
  {
   "cell_type": "code",
   "execution_count": 19,
   "id": "dd26fc21-ccdf-4a3e-ad08-a5fc8e3c174b",
   "metadata": {},
   "outputs": [],
   "source": [
    "df_hist_group['days_played'] = (df_hist_group['date_acquired_max'] - df_hist_group['date_acquired_min']).dt.days + 1"
   ]
  },
  {
   "cell_type": "code",
   "execution_count": 20,
   "id": "81de957e-7972-4b35-b63b-79b5e6c14d3a",
   "metadata": {},
   "outputs": [
    {
     "data": {
      "text/html": [
       "<div>\n",
       "<style scoped>\n",
       "    .dataframe tbody tr th:only-of-type {\n",
       "        vertical-align: middle;\n",
       "    }\n",
       "\n",
       "    .dataframe tbody tr th {\n",
       "        vertical-align: top;\n",
       "    }\n",
       "\n",
       "    .dataframe thead th {\n",
       "        text-align: right;\n",
       "    }\n",
       "</style>\n",
       "<table border=\"1\" class=\"dataframe\">\n",
       "  <thead>\n",
       "    <tr style=\"text-align: right;\">\n",
       "      <th></th>\n",
       "      <th>playerid</th>\n",
       "      <th>game</th>\n",
       "      <th>date_acquired_min</th>\n",
       "      <th>date_acquired_max</th>\n",
       "      <th>unique_achievements</th>\n",
       "      <th>days_played</th>\n",
       "    </tr>\n",
       "  </thead>\n",
       "  <tbody>\n",
       "    <tr>\n",
       "      <th>0</th>\n",
       "      <td>77</td>\n",
       "      <td>1</td>\n",
       "      <td>2011-08-31 10:15:59</td>\n",
       "      <td>2011-09-06 09:26:33</td>\n",
       "      <td>25</td>\n",
       "      <td>6</td>\n",
       "    </tr>\n",
       "    <tr>\n",
       "      <th>1</th>\n",
       "      <td>77</td>\n",
       "      <td>10020</td>\n",
       "      <td>2015-09-02 12:00:08</td>\n",
       "      <td>2017-05-10 05:33:15</td>\n",
       "      <td>26</td>\n",
       "      <td>616</td>\n",
       "    </tr>\n",
       "    <tr>\n",
       "      <th>2</th>\n",
       "      <td>77</td>\n",
       "      <td>10246</td>\n",
       "      <td>2016-04-05 02:32:19</td>\n",
       "      <td>2016-04-05 02:32:19</td>\n",
       "      <td>1</td>\n",
       "      <td>1</td>\n",
       "    </tr>\n",
       "    <tr>\n",
       "      <th>3</th>\n",
       "      <td>77</td>\n",
       "      <td>104</td>\n",
       "      <td>2010-03-05 03:56:03</td>\n",
       "      <td>2010-06-26 01:05:25</td>\n",
       "      <td>47</td>\n",
       "      <td>113</td>\n",
       "    </tr>\n",
       "    <tr>\n",
       "      <th>4</th>\n",
       "      <td>77</td>\n",
       "      <td>10454</td>\n",
       "      <td>2016-06-26 13:59:52</td>\n",
       "      <td>2016-06-26 13:59:52</td>\n",
       "      <td>1</td>\n",
       "      <td>1</td>\n",
       "    </tr>\n",
       "  </tbody>\n",
       "</table>\n",
       "</div>"
      ],
      "text/plain": [
       "   playerid   game   date_acquired_min   date_acquired_max  \\\n",
       "0        77      1 2011-08-31 10:15:59 2011-09-06 09:26:33   \n",
       "1        77  10020 2015-09-02 12:00:08 2017-05-10 05:33:15   \n",
       "2        77  10246 2016-04-05 02:32:19 2016-04-05 02:32:19   \n",
       "3        77    104 2010-03-05 03:56:03 2010-06-26 01:05:25   \n",
       "4        77  10454 2016-06-26 13:59:52 2016-06-26 13:59:52   \n",
       "\n",
       "   unique_achievements  days_played  \n",
       "0                   25            6  \n",
       "1                   26          616  \n",
       "2                    1            1  \n",
       "3                   47          113  \n",
       "4                    1            1  "
      ]
     },
     "execution_count": 20,
     "metadata": {},
     "output_type": "execute_result"
    }
   ],
   "source": [
    "df_hist_group.head()"
   ]
  },
  {
   "cell_type": "code",
   "execution_count": 21,
   "id": "c43062a7-8cf6-4673-b966-981c9a2b3fcf",
   "metadata": {},
   "outputs": [],
   "source": [
    "df_hist_group['player_game_id'] = df_hist_group['playerid'].astype('str') + \"_\" + df_hist_group['game'].astype('str')"
   ]
  },
  {
   "cell_type": "markdown",
   "id": "cdec8116-5882-4f45-b4b8-dc949b770b9c",
   "metadata": {},
   "source": [
    "#### Subset features we will use for modeling and add to primary dataframe"
   ]
  },
  {
   "cell_type": "code",
   "execution_count": 22,
   "id": "df024026-e728-4777-9609-d2c992d86e02",
   "metadata": {},
   "outputs": [],
   "source": [
    "player_game_int = df_hist_group[['player_game_id', 'unique_achievements', 'days_played']]"
   ]
  },
  {
   "cell_type": "code",
   "execution_count": 23,
   "id": "03e60c51-09cb-48cb-99cf-7063fa54e146",
   "metadata": {},
   "outputs": [
    {
     "data": {
      "text/html": [
       "<div>\n",
       "<style scoped>\n",
       "    .dataframe tbody tr th:only-of-type {\n",
       "        vertical-align: middle;\n",
       "    }\n",
       "\n",
       "    .dataframe tbody tr th {\n",
       "        vertical-align: top;\n",
       "    }\n",
       "\n",
       "    .dataframe thead th {\n",
       "        text-align: right;\n",
       "    }\n",
       "</style>\n",
       "<table border=\"1\" class=\"dataframe\">\n",
       "  <thead>\n",
       "    <tr style=\"text-align: right;\">\n",
       "      <th></th>\n",
       "      <th>player_game_id</th>\n",
       "      <th>unique_achievements</th>\n",
       "      <th>days_played</th>\n",
       "    </tr>\n",
       "  </thead>\n",
       "  <tbody>\n",
       "    <tr>\n",
       "      <th>0</th>\n",
       "      <td>77_1</td>\n",
       "      <td>25</td>\n",
       "      <td>6</td>\n",
       "    </tr>\n",
       "    <tr>\n",
       "      <th>1</th>\n",
       "      <td>77_10020</td>\n",
       "      <td>26</td>\n",
       "      <td>616</td>\n",
       "    </tr>\n",
       "    <tr>\n",
       "      <th>2</th>\n",
       "      <td>77_10246</td>\n",
       "      <td>1</td>\n",
       "      <td>1</td>\n",
       "    </tr>\n",
       "    <tr>\n",
       "      <th>3</th>\n",
       "      <td>77_104</td>\n",
       "      <td>47</td>\n",
       "      <td>113</td>\n",
       "    </tr>\n",
       "    <tr>\n",
       "      <th>4</th>\n",
       "      <td>77_10454</td>\n",
       "      <td>1</td>\n",
       "      <td>1</td>\n",
       "    </tr>\n",
       "  </tbody>\n",
       "</table>\n",
       "</div>"
      ],
      "text/plain": [
       "  player_game_id  unique_achievements  days_played\n",
       "0           77_1                   25            6\n",
       "1       77_10020                   26          616\n",
       "2       77_10246                    1            1\n",
       "3         77_104                   47          113\n",
       "4       77_10454                    1            1"
      ]
     },
     "execution_count": 23,
     "metadata": {},
     "output_type": "execute_result"
    }
   ],
   "source": [
    "player_game_int.head()"
   ]
  },
  {
   "cell_type": "code",
   "execution_count": 24,
   "id": "f95e4a98-75df-4006-9b39-44da289cbba7",
   "metadata": {},
   "outputs": [],
   "source": [
    "df_games_meta_int = pd.merge(df_games_meta, player_game_int, left_on='player_game_id', right_on='player_game_id', how='left')"
   ]
  },
  {
   "cell_type": "code",
   "execution_count": 25,
   "id": "5cefd895-ed16-4cfe-afee-7319c780f97b",
   "metadata": {},
   "outputs": [],
   "source": [
    "df_games_meta_int_f = df_games_meta_int[['playerid', 'gameid', 'platform', 'developers', 'genres', 'supported_languages', 'unique_achievements', 'days_played']]"
   ]
  },
  {
   "cell_type": "code",
   "execution_count": 26,
   "id": "092294af-2df1-45e3-a5dd-cf9d73865946",
   "metadata": {},
   "outputs": [
    {
     "name": "stderr",
     "output_type": "stream",
     "text": [
      "/tmp/ipykernel_2976/3037761198.py:1: FutureWarning: A value is trying to be set on a copy of a DataFrame or Series through chained assignment using an inplace method.\n",
      "The behavior will change in pandas 3.0. This inplace method will never work because the intermediate object on which we are setting values always behaves as a copy.\n",
      "\n",
      "For example, when doing 'df[col].method(value, inplace=True)', try using 'df.method({col: value}, inplace=True)' or df[col] = df[col].method(value) instead, to perform the operation inplace on the original object.\n",
      "\n",
      "\n",
      "  df_games_meta_int_f['unique_achievements'].fillna(0, inplace=True)\n",
      "/tmp/ipykernel_2976/3037761198.py:1: SettingWithCopyWarning: \n",
      "A value is trying to be set on a copy of a slice from a DataFrame\n",
      "\n",
      "See the caveats in the documentation: https://pandas.pydata.org/pandas-docs/stable/user_guide/indexing.html#returning-a-view-versus-a-copy\n",
      "  df_games_meta_int_f['unique_achievements'].fillna(0, inplace=True)\n",
      "/tmp/ipykernel_2976/3037761198.py:2: FutureWarning: A value is trying to be set on a copy of a DataFrame or Series through chained assignment using an inplace method.\n",
      "The behavior will change in pandas 3.0. This inplace method will never work because the intermediate object on which we are setting values always behaves as a copy.\n",
      "\n",
      "For example, when doing 'df[col].method(value, inplace=True)', try using 'df.method({col: value}, inplace=True)' or df[col] = df[col].method(value) instead, to perform the operation inplace on the original object.\n",
      "\n",
      "\n",
      "  df_games_meta_int_f['days_played'].fillna(0, inplace=True)\n",
      "/tmp/ipykernel_2976/3037761198.py:2: SettingWithCopyWarning: \n",
      "A value is trying to be set on a copy of a slice from a DataFrame\n",
      "\n",
      "See the caveats in the documentation: https://pandas.pydata.org/pandas-docs/stable/user_guide/indexing.html#returning-a-view-versus-a-copy\n",
      "  df_games_meta_int_f['days_played'].fillna(0, inplace=True)\n"
     ]
    }
   ],
   "source": [
    "df_games_meta_int_f['unique_achievements'].fillna(0, inplace=True)\n",
    "df_games_meta_int_f['days_played'].fillna(0, inplace=True)"
   ]
  },
  {
   "cell_type": "code",
   "execution_count": 4,
   "id": "b33d5c89-85b7-4ee6-8776-5426e07bdf27",
   "metadata": {},
   "outputs": [],
   "source": [
    "df_games_meta_int_f.head()"
   ]
  },
  {
   "cell_type": "markdown",
   "id": "9d357002-bbd5-4ae8-89c0-148ced780b4c",
   "metadata": {},
   "source": [
    "### Get complete dataset to s3, then split as needed"
   ]
  },
  {
   "cell_type": "code",
   "execution_count": 5,
   "id": "d5a05b79-15ca-4177-a8df-9a760af5f6b6",
   "metadata": {},
   "outputs": [],
   "source": [
    "from sklearn.model_selection import train_test_split\n",
    "\n",
    "# Splitting the data\n",
    "train_df, test_df = train_test_split(df_games_meta_int_f, test_size=0.2, random_state=42)\n",
    "\n",
    "# Upload S3 Func\n",
    "def upload_to_s3(df, bucket_name, file_key):\n",
    "    csv_buffer = StringIO()\n",
    "    df.to_csv(csv_buffer, index=False)\n",
    "    s3.put_object(Bucket=bucket_name, Key=file_key, Body=csv_buffer.getvalue())\n",
    "\n",
    "#Keys and Uploading to S3\n",
    "train_file_key = 'playstation/train_data.csv'\n",
    "test_file_key = 'playstation/test_data.csv'\n",
    "\n",
    "upload_to_s3(train_df, bucket, train_file_key)\n",
    "upload_to_s3(test_df, bucket, test_file_key)\n",
    "\n",
    "# Paths\n",
    "print(f\"Train dataset uploaded to: s3://{bucket}/{train_file_key}\")\n",
    "print(f\"Test dataset uploaded to: s3://{bucket}/{test_file_key}\")"
   ]
  }
 ],
 "metadata": {
  "kernelspec": {
   "display_name": "Python 3 (ipykernel)",
   "language": "python",
   "name": "python3"
  },
  "language_info": {
   "codemirror_mode": {
    "name": "ipython",
    "version": 3
   },
   "file_extension": ".py",
   "mimetype": "text/x-python",
   "name": "python",
   "nbconvert_exporter": "python",
   "pygments_lexer": "ipython3",
   "version": "3.11.11"
  }
 },
 "nbformat": 4,
 "nbformat_minor": 5
}
