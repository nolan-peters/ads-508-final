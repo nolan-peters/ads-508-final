{
 "cells": [
  {
   "cell_type": "code",
   "execution_count": 28,
   "id": "b1da6cdf-ecb2-494c-9fd6-0ee0dcefc4dd",
   "metadata": {},
   "outputs": [],
   "source": [
    "import sagemaker\n",
    "import boto3\n",
    "import pandas as pd\n",
    "from io import StringIO\n",
    "import ast"
   ]
  },
  {
   "cell_type": "code",
   "execution_count": 3,
   "id": "53512ded-c5e1-4d91-88df-fa1dcaae2130",
   "metadata": {},
   "outputs": [],
   "source": [
    "sess = sagemaker.Session()\n",
    "bucket = sess.default_bucket()\n",
    "role = sagemaker.get_execution_role()\n",
    "region = boto3.Session().region_name\n",
    "\n",
    "sm = boto3.Session().client(service_name=\"sagemaker\", region_name=region)\n",
    "s3 = boto3.Session().client(service_name=\"s3\", region_name=region)"
   ]
  },
  {
   "cell_type": "markdown",
   "id": "1d998e15-ca27-41e1-b17f-86a48e4ceba5",
   "metadata": {},
   "source": [
    "### Get library for every user"
   ]
  },
  {
   "cell_type": "markdown",
   "id": "ec750ef1-598e-464c-a0de-5fb5095d5575",
   "metadata": {},
   "source": [
    "Set the user_id and gameid for all users"
   ]
  },
  {
   "cell_type": "code",
   "execution_count": 14,
   "id": "eb3e2601-f2e7-446e-b506-9eac732bc239",
   "metadata": {},
   "outputs": [],
   "source": [
    "def load_data(file_key):    \n",
    "    bucket_name = 'ads-508-final'\n",
    "    file_key = f\"playstation/{file_key}/{file_key}.csv\"\n",
    "    \n",
    "    response = s3.get_object(Bucket=bucket_name, Key=file_key)\n",
    "    \n",
    "    csv_content = response['Body'].read().decode('utf-8')\n",
    "    \n",
    "    csv_file = StringIO(csv_content)\n",
    "    \n",
    "    df = pd.read_csv(csv_file)\n",
    "\n",
    "    return df"
   ]
  },
  {
   "cell_type": "code",
   "execution_count": 20,
   "id": "3a1de206-7cc7-4b36-a682-9c12cb6d3ced",
   "metadata": {},
   "outputs": [],
   "source": [
    "df_purch = load_data(\"purchased_games\")"
   ]
  },
  {
   "cell_type": "code",
   "execution_count": 38,
   "id": "24cebea3-99d6-4e18-b69e-a8fd13e9376a",
   "metadata": {},
   "outputs": [],
   "source": [
    "def conv_str_exp(df, col):\n",
    "    \"\"\"Convert columns type if needed then explode\"\"\"\n",
    "    \n",
    "    df[col] = df[col].apply(lambda x: ast.literal_eval(x) if isinstance(x, str) else x)\n",
    "    df_exploded = df.explode(col, ignore_index=True)\n",
    "    return df_exploded"
   ]
  },
  {
   "cell_type": "code",
   "execution_count": 46,
   "id": "bfe75aff-c410-436c-8a23-4872b86665bd",
   "metadata": {},
   "outputs": [],
   "source": [
    "df_player = conv_str_exp(df_purch, 'library')"
   ]
  },
  {
   "cell_type": "code",
   "execution_count": 40,
   "id": "1e506ff4-5852-4c87-ba65-789248fa081d",
   "metadata": {},
   "outputs": [
    {
     "data": {
      "text/html": [
       "<div>\n",
       "<style scoped>\n",
       "    .dataframe tbody tr th:only-of-type {\n",
       "        vertical-align: middle;\n",
       "    }\n",
       "\n",
       "    .dataframe tbody tr th {\n",
       "        vertical-align: top;\n",
       "    }\n",
       "\n",
       "    .dataframe thead th {\n",
       "        text-align: right;\n",
       "    }\n",
       "</style>\n",
       "<table border=\"1\" class=\"dataframe\">\n",
       "  <thead>\n",
       "    <tr style=\"text-align: right;\">\n",
       "      <th></th>\n",
       "      <th>playerid</th>\n",
       "      <th>library</th>\n",
       "    </tr>\n",
       "  </thead>\n",
       "  <tbody>\n",
       "    <tr>\n",
       "      <th>0</th>\n",
       "      <td>268071</td>\n",
       "      <td>14972</td>\n",
       "    </tr>\n",
       "    <tr>\n",
       "      <th>1</th>\n",
       "      <td>268071</td>\n",
       "      <td>417905</td>\n",
       "    </tr>\n",
       "    <tr>\n",
       "      <th>2</th>\n",
       "      <td>268071</td>\n",
       "      <td>14693</td>\n",
       "    </tr>\n",
       "    <tr>\n",
       "      <th>3</th>\n",
       "      <td>268071</td>\n",
       "      <td>7742</td>\n",
       "    </tr>\n",
       "    <tr>\n",
       "      <th>4</th>\n",
       "      <td>268071</td>\n",
       "      <td>20162</td>\n",
       "    </tr>\n",
       "  </tbody>\n",
       "</table>\n",
       "</div>"
      ],
      "text/plain": [
       "   playerid library\n",
       "0    268071   14972\n",
       "1    268071  417905\n",
       "2    268071   14693\n",
       "3    268071    7742\n",
       "4    268071   20162"
      ]
     },
     "execution_count": 40,
     "metadata": {},
     "output_type": "execute_result"
    }
   ],
   "source": [
    "df.head()"
   ]
  },
  {
   "cell_type": "markdown",
   "id": "686af848-9b52-40cc-a1ba-99b5afa3ce42",
   "metadata": {},
   "source": [
    "### Add game meta data\n",
    "Add additional metadata about the game for training"
   ]
  },
  {
   "cell_type": "code",
   "execution_count": 41,
   "id": "87f31691-b89e-4a3a-a45a-73f58bee0a31",
   "metadata": {},
   "outputs": [],
   "source": [
    "df_games = load_data(\"games\")"
   ]
  },
  {
   "cell_type": "code",
   "execution_count": 42,
   "id": "93318e26-d6c6-47df-9e54-230499894143",
   "metadata": {},
   "outputs": [
    {
     "data": {
      "text/html": [
       "<div>\n",
       "<style scoped>\n",
       "    .dataframe tbody tr th:only-of-type {\n",
       "        vertical-align: middle;\n",
       "    }\n",
       "\n",
       "    .dataframe tbody tr th {\n",
       "        vertical-align: top;\n",
       "    }\n",
       "\n",
       "    .dataframe thead th {\n",
       "        text-align: right;\n",
       "    }\n",
       "</style>\n",
       "<table border=\"1\" class=\"dataframe\">\n",
       "  <thead>\n",
       "    <tr style=\"text-align: right;\">\n",
       "      <th></th>\n",
       "      <th>gameid</th>\n",
       "      <th>title</th>\n",
       "      <th>platform</th>\n",
       "      <th>developers</th>\n",
       "      <th>publishers</th>\n",
       "      <th>genres</th>\n",
       "      <th>supported_languages</th>\n",
       "      <th>release_date</th>\n",
       "    </tr>\n",
       "  </thead>\n",
       "  <tbody>\n",
       "    <tr>\n",
       "      <th>0</th>\n",
       "      <td>749375</td>\n",
       "      <td>Medieval Match Master</td>\n",
       "      <td>PS4</td>\n",
       "      <td>['Erik Games']</td>\n",
       "      <td>['Erik Games']</td>\n",
       "      <td>['Puzzle']</td>\n",
       "      <td>NaN</td>\n",
       "      <td>2024-11-22</td>\n",
       "    </tr>\n",
       "    <tr>\n",
       "      <th>1</th>\n",
       "      <td>749839</td>\n",
       "      <td>Sunforge Solar Survival</td>\n",
       "      <td>PS4</td>\n",
       "      <td>['GrizzlyGames']</td>\n",
       "      <td>['GrizzlyGames']</td>\n",
       "      <td>NaN</td>\n",
       "      <td>NaN</td>\n",
       "      <td>2024-11-21</td>\n",
       "    </tr>\n",
       "    <tr>\n",
       "      <th>2</th>\n",
       "      <td>749347</td>\n",
       "      <td>Find Love Or Die Trying</td>\n",
       "      <td>PS5</td>\n",
       "      <td>['Sunseeker Games']</td>\n",
       "      <td>['Ratalaika Games']</td>\n",
       "      <td>['Visual Novel']</td>\n",
       "      <td>NaN</td>\n",
       "      <td>2024-11-22</td>\n",
       "    </tr>\n",
       "    <tr>\n",
       "      <th>3</th>\n",
       "      <td>749341</td>\n",
       "      <td>Medieval Match Master</td>\n",
       "      <td>PS4</td>\n",
       "      <td>['Erik Games']</td>\n",
       "      <td>['Erik Games']</td>\n",
       "      <td>['Puzzle']</td>\n",
       "      <td>NaN</td>\n",
       "      <td>2024-11-22</td>\n",
       "    </tr>\n",
       "    <tr>\n",
       "      <th>4</th>\n",
       "      <td>749097</td>\n",
       "      <td>Bust A Block 2</td>\n",
       "      <td>PS5</td>\n",
       "      <td>['ThiGames']</td>\n",
       "      <td>['ThiGames']</td>\n",
       "      <td>['Puzzle']</td>\n",
       "      <td>NaN</td>\n",
       "      <td>2024-11-21</td>\n",
       "    </tr>\n",
       "  </tbody>\n",
       "</table>\n",
       "</div>"
      ],
      "text/plain": [
       "   gameid                    title platform           developers  \\\n",
       "0  749375    Medieval Match Master      PS4       ['Erik Games']   \n",
       "1  749839  Sunforge Solar Survival      PS4     ['GrizzlyGames']   \n",
       "2  749347  Find Love Or Die Trying      PS5  ['Sunseeker Games']   \n",
       "3  749341    Medieval Match Master      PS4       ['Erik Games']   \n",
       "4  749097           Bust A Block 2      PS5         ['ThiGames']   \n",
       "\n",
       "            publishers            genres supported_languages release_date  \n",
       "0       ['Erik Games']        ['Puzzle']                 NaN   2024-11-22  \n",
       "1     ['GrizzlyGames']               NaN                 NaN   2024-11-21  \n",
       "2  ['Ratalaika Games']  ['Visual Novel']                 NaN   2024-11-22  \n",
       "3       ['Erik Games']        ['Puzzle']                 NaN   2024-11-22  \n",
       "4         ['ThiGames']        ['Puzzle']                 NaN   2024-11-21  "
      ]
     },
     "execution_count": 42,
     "metadata": {},
     "output_type": "execute_result"
    }
   ],
   "source": [
    "df_games.head()"
   ]
  },
  {
   "cell_type": "code",
   "execution_count": 43,
   "id": "fe5d0d2e-cc1c-46cc-9e67-5163ee66e7d6",
   "metadata": {},
   "outputs": [],
   "source": [
    "df_games = df_games.drop(columns = ['release_date', 'title', 'publishers'])"
   ]
  },
  {
   "cell_type": "code",
   "execution_count": 48,
   "id": "4245c1d6-b149-490a-93cf-4efcac73aaf0",
   "metadata": {},
   "outputs": [],
   "source": [
    "df_games_meta = pd.merge(df_player, df_games, left_on='library', right_on='gameid', how='left')"
   ]
  },
  {
   "cell_type": "markdown",
   "id": "196678b3-446a-45e7-ad4c-e9767c96705f",
   "metadata": {},
   "source": [
    "### Derive interaction characteristics from tophy data"
   ]
  },
  {
   "cell_type": "code",
   "execution_count": null,
   "id": "128fd1b2-25f8-45cd-81fd-0b41543617fd",
   "metadata": {},
   "outputs": [],
   "source": []
  }
 ],
 "metadata": {
  "kernelspec": {
   "display_name": "Python 3 (ipykernel)",
   "language": "python",
   "name": "python3"
  },
  "language_info": {
   "codemirror_mode": {
    "name": "ipython",
    "version": 3
   },
   "file_extension": ".py",
   "mimetype": "text/x-python",
   "name": "python",
   "nbconvert_exporter": "python",
   "pygments_lexer": "ipython3",
   "version": "3.11.11"
  }
 },
 "nbformat": 4,
 "nbformat_minor": 5
}
