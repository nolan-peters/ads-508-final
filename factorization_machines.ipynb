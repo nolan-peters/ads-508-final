{
 "cells": [
  {
   "cell_type": "code",
   "execution_count": 17,
   "id": "29c237b7-35c6-474e-8196-2cdd971c9562",
   "metadata": {},
   "outputs": [],
   "source": [
    "import sagemaker\n",
    "import boto3\n",
    "import pandas as pd\n",
    "import numpy as np\n",
    "from io import StringIO\n",
    "import ast\n",
    "import gc\n",
    "from tqdm import tqdm"
   ]
  },
  {
   "cell_type": "code",
   "execution_count": 2,
   "id": "e044e484-b0d3-495c-9736-5a9d1561ce37",
   "metadata": {},
   "outputs": [],
   "source": [
    "sess = sagemaker.Session()\n",
    "bucket = sess.default_bucket()\n",
    "role = sagemaker.get_execution_role()\n",
    "region = boto3.Session().region_name\n",
    "\n",
    "sm = boto3.Session().client(service_name=\"sagemaker\", region_name=region)\n",
    "s3 = boto3.Session().client(service_name=\"s3\", region_name=region)"
   ]
  },
  {
   "cell_type": "code",
   "execution_count": 3,
   "id": "e10991a7-8ae1-4d2f-8f2d-5441c44b825f",
   "metadata": {},
   "outputs": [],
   "source": [
    "bucket_name = 'ads-508-final'\n",
    "file_key = \"transformeddata/full_ps_data.csv\""
   ]
  },
  {
   "cell_type": "code",
   "execution_count": 4,
   "id": "7705651a-7c29-4f6f-b0bd-486fb32645a8",
   "metadata": {},
   "outputs": [],
   "source": [
    "response = s3.get_object(Bucket=bucket_name, Key=file_key)\n",
    "csv_content = response['Body'].read().decode('utf-8')\n",
    "csv_file = StringIO(csv_content)\n",
    "df = pd.read_csv(csv_file)"
   ]
  },
  {
   "cell_type": "code",
   "execution_count": 12,
   "id": "abf9a472-ebd4-4029-8f43-8435123784bf",
   "metadata": {},
   "outputs": [
    {
     "data": {
      "text/html": [
       "<div>\n",
       "<style scoped>\n",
       "    .dataframe tbody tr th:only-of-type {\n",
       "        vertical-align: middle;\n",
       "    }\n",
       "\n",
       "    .dataframe tbody tr th {\n",
       "        vertical-align: top;\n",
       "    }\n",
       "\n",
       "    .dataframe thead th {\n",
       "        text-align: right;\n",
       "    }\n",
       "</style>\n",
       "<table border=\"1\" class=\"dataframe\">\n",
       "  <thead>\n",
       "    <tr style=\"text-align: right;\">\n",
       "      <th></th>\n",
       "      <th>playerid</th>\n",
       "      <th>gameid</th>\n",
       "      <th>platform</th>\n",
       "      <th>developers</th>\n",
       "      <th>genres</th>\n",
       "      <th>supported_languages</th>\n",
       "      <th>unique_achievements</th>\n",
       "      <th>days_played</th>\n",
       "      <th>purchased</th>\n",
       "    </tr>\n",
       "  </thead>\n",
       "  <tbody>\n",
       "    <tr>\n",
       "      <th>0</th>\n",
       "      <td>268071</td>\n",
       "      <td>14972.0</td>\n",
       "      <td>PS4</td>\n",
       "      <td>['arkane studios']</td>\n",
       "      <td>['Action']</td>\n",
       "      <td>['Japanese', 'French', 'Spanish', 'German', 'I...</td>\n",
       "      <td>0.0</td>\n",
       "      <td>0.0</td>\n",
       "      <td>1</td>\n",
       "    </tr>\n",
       "    <tr>\n",
       "      <th>1</th>\n",
       "      <td>268071</td>\n",
       "      <td>417905.0</td>\n",
       "      <td>PS5</td>\n",
       "      <td>['Sumo Digital']</td>\n",
       "      <td>['Platformer']</td>\n",
       "      <td>['Japanese', 'French', 'Spanish', 'German', 'I...</td>\n",
       "      <td>0.0</td>\n",
       "      <td>0.0</td>\n",
       "      <td>1</td>\n",
       "    </tr>\n",
       "    <tr>\n",
       "      <th>2</th>\n",
       "      <td>268071</td>\n",
       "      <td>14693.0</td>\n",
       "      <td>PS4</td>\n",
       "      <td>['square enix montreal']</td>\n",
       "      <td>['RPG']</td>\n",
       "      <td>['Japanese', 'French', 'Spanish', 'German', 'I...</td>\n",
       "      <td>0.0</td>\n",
       "      <td>0.0</td>\n",
       "      <td>1</td>\n",
       "    </tr>\n",
       "    <tr>\n",
       "      <th>3</th>\n",
       "      <td>268071</td>\n",
       "      <td>20162.0</td>\n",
       "      <td>PS4</td>\n",
       "      <td>['Ubisoft Montreal Studio']</td>\n",
       "      <td>['RPG']</td>\n",
       "      <td>['Japanese', 'French', 'Spanish', 'German', 'I...</td>\n",
       "      <td>0.0</td>\n",
       "      <td>0.0</td>\n",
       "      <td>1</td>\n",
       "    </tr>\n",
       "    <tr>\n",
       "      <th>4</th>\n",
       "      <td>268071</td>\n",
       "      <td>461983.0</td>\n",
       "      <td>PS5</td>\n",
       "      <td>['Ubisoft Annecy']</td>\n",
       "      <td>['Sports', 'Cycling', 'Skiing', 'Snowboarding']</td>\n",
       "      <td>['Japanese', 'French', 'Spanish', 'German', 'I...</td>\n",
       "      <td>0.0</td>\n",
       "      <td>0.0</td>\n",
       "      <td>1</td>\n",
       "    </tr>\n",
       "  </tbody>\n",
       "</table>\n",
       "</div>"
      ],
      "text/plain": [
       "  playerid    gameid platform                   developers  \\\n",
       "0   268071   14972.0      PS4           ['arkane studios']   \n",
       "1   268071  417905.0      PS5             ['Sumo Digital']   \n",
       "2   268071   14693.0      PS4     ['square enix montreal']   \n",
       "3   268071   20162.0      PS4  ['Ubisoft Montreal Studio']   \n",
       "4   268071  461983.0      PS5           ['Ubisoft Annecy']   \n",
       "\n",
       "                                            genres  \\\n",
       "0                                       ['Action']   \n",
       "1                                   ['Platformer']   \n",
       "2                                          ['RPG']   \n",
       "3                                          ['RPG']   \n",
       "4  ['Sports', 'Cycling', 'Skiing', 'Snowboarding']   \n",
       "\n",
       "                                 supported_languages  unique_achievements  \\\n",
       "0  ['Japanese', 'French', 'Spanish', 'German', 'I...                  0.0   \n",
       "1  ['Japanese', 'French', 'Spanish', 'German', 'I...                  0.0   \n",
       "2  ['Japanese', 'French', 'Spanish', 'German', 'I...                  0.0   \n",
       "3  ['Japanese', 'French', 'Spanish', 'German', 'I...                  0.0   \n",
       "4  ['Japanese', 'French', 'Spanish', 'German', 'I...                  0.0   \n",
       "\n",
       "   days_played  purchased  \n",
       "0          0.0          1  \n",
       "1          0.0          1  \n",
       "2          0.0          1  \n",
       "3          0.0          1  \n",
       "4          0.0          1  "
      ]
     },
     "execution_count": 12,
     "metadata": {},
     "output_type": "execute_result"
    }
   ],
   "source": [
    "df.head()"
   ]
  },
  {
   "cell_type": "code",
   "execution_count": 9,
   "id": "7653b46a-6915-4a0e-81a0-ce55fff41419",
   "metadata": {},
   "outputs": [
    {
     "data": {
      "text/plain": [
       "playerid                 int64\n",
       "gameid                 float64\n",
       "platform                object\n",
       "developers              object\n",
       "genres                  object\n",
       "supported_languages     object\n",
       "unique_achievements    float64\n",
       "days_played            float64\n",
       "dtype: object"
      ]
     },
     "execution_count": 9,
     "metadata": {},
     "output_type": "execute_result"
    }
   ],
   "source": [
    "df.dtypes"
   ]
  },
  {
   "cell_type": "code",
   "execution_count": 10,
   "id": "252a30f3-d801-43c0-8607-72ec7c453a79",
   "metadata": {},
   "outputs": [],
   "source": [
    "df[\"playerid\"] = df[\"playerid\"].astype(\"category\")\n",
    "df[\"gameid\"] = df[\"gameid\"].astype(\"category\")"
   ]
  },
  {
   "cell_type": "code",
   "execution_count": 11,
   "id": "9982dbad-fd6d-447d-88cf-6c9aa2a43874",
   "metadata": {},
   "outputs": [],
   "source": [
    "df['purchased'] = 1"
   ]
  },
  {
   "cell_type": "code",
   "execution_count": 13,
   "id": "626fcc95-607d-4b45-8c9a-42e104d02052",
   "metadata": {},
   "outputs": [],
   "source": [
    "df_fm = df[['playerid', 'gameid', 'purchased']]"
   ]
  },
  {
   "cell_type": "code",
   "execution_count": 14,
   "id": "fcf90abf-87ab-4794-9ebc-d62ed4c92a2c",
   "metadata": {},
   "outputs": [
    {
     "data": {
      "text/plain": [
       "11343"
      ]
     },
     "execution_count": 14,
     "metadata": {},
     "output_type": "execute_result"
    }
   ],
   "source": [
    "del df\n",
    "gc.collect()"
   ]
  },
  {
   "cell_type": "markdown",
   "id": "75c07091-fee5-4d0b-9356-9fb0dd248fe3",
   "metadata": {},
   "source": [
    "### Generate negative samples\n",
    "FMs require negative samples to be included in the dataset for proper training. These interactions were not included in the initial preproccessing steps so they are added here to adjust. "
   ]
  },
  {
   "cell_type": "code",
   "execution_count": 15,
   "id": "9687097d-4970-468f-8a5f-d19c54176a51",
   "metadata": {},
   "outputs": [],
   "source": [
    "all_games = df_fm[\"gameid\"].unique()\n",
    "\n",
    "def generate_negative_samples(df, num_negatives=5):\n",
    "    negative_samples = []\n",
    "    \n",
    "    for player in tqdm(df[\"playerid\"].unique(), desc=\"Generating negative samples\"):\n",
    "        played_games = set(df[df[\"playerid\"] == player][\"gameid\"])\n",
    "        unplayed_games = list(set(all_games) - played_games)\n",
    "\n",
    "        # Randomly select games the player has NOT played\n",
    "        sampled_games = np.random.choice(unplayed_games, min(num_negatives, len(unplayed_games)), replace=False)\n",
    "\n",
    "        for game in sampled_games:\n",
    "            negative_samples.append([player, game, 0])  # 0 = Not played\n",
    "\n",
    "    return pd.DataFrame(negative_samples, columns=[\"playerid\", \"gameid\", \"label\"])"
   ]
  },
  {
   "cell_type": "code",
   "execution_count": null,
   "id": "d97b8aca-6135-4156-a9e4-8ac9978606e9",
   "metadata": {},
   "outputs": [],
   "source": [
    "# Generate negative samples\n",
    "neg_samples = generate_negative_samples(df_fm)\n",
    "\n",
    "# Add positive samples with label = 1\n",
    "df_final = pd.concat(df_fm, neg_samples)\n",
    "\n",
    "df_final.head()"
   ]
  },
  {
   "cell_type": "code",
   "execution_count": null,
   "id": "74d95bb1-3e03-442b-bb8f-43a373d50ccc",
   "metadata": {},
   "outputs": [],
   "source": [
    "# Create binary target: played/purchased = 1, else = 0\n",
    "df[\"LABEL\"] = (df[\"PLAYTIME\"] > 0) | (df[\"PURCHASED\"] == 1)\n",
    "df[\"LABEL\"] = df[\"LABEL\"].astype(int)\n",
    "\n",
    "# Encode USER_ID and GAME_ID as numerical indices\n",
    "df[\"USER_IDX\"] = df[\"USER_ID\"].astype(\"category\").cat.codes\n",
    "df[\"GAME_IDX\"] = df[\"GAME_ID\"].astype(\"category\").cat.codes\n",
    "\n",
    "# Selecting only necessary columns\n",
    "df = df[[\"LABEL\", \"USER_IDX\", \"GAME_IDX\"]]\n",
    "df.head()"
   ]
  }
 ],
 "metadata": {
  "kernelspec": {
   "display_name": "Python 3 (ipykernel)",
   "language": "python",
   "name": "python3"
  },
  "language_info": {
   "codemirror_mode": {
    "name": "ipython",
    "version": 3
   },
   "file_extension": ".py",
   "mimetype": "text/x-python",
   "name": "python",
   "nbconvert_exporter": "python",
   "pygments_lexer": "ipython3",
   "version": "3.11.11"
  }
 },
 "nbformat": 4,
 "nbformat_minor": 5
}
